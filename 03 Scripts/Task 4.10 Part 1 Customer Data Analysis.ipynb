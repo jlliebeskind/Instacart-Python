{
 "cells": [
  {
   "cell_type": "markdown",
   "id": "127bf5e6",
   "metadata": {},
   "source": [
    "# 4.10 Part 1: Customer Data Analysis"
   ]
  },
  {
   "cell_type": "markdown",
   "id": "32e96704",
   "metadata": {},
   "source": [
    "   #### Contents\n",
    "    01. Import data and libraries\n",
    "    02. Check data, consider security\n",
    "    03. Regional coding\n",
    "    04. Exclude low-activity customers\n",
    "    05. Define and visualize a new variable: 'household' type\n",
    "    06. Explore spending habits of household types\n",
    "    07. Explore variations\n",
    "    07. Visualize patterns found\n",
    "    08. Export data"
   ]
  },
  {
   "cell_type": "markdown",
   "id": "2455da5b",
   "metadata": {},
   "source": [
    "## 01. Import data and libraries"
   ]
  },
  {
   "cell_type": "code",
   "execution_count": 1,
   "id": "83b0990f",
   "metadata": {},
   "outputs": [],
   "source": [
    "import pandas as pd\n",
    "import numpy as np\n",
    "import os\n",
    "import matplotlib.pyplot as plt\n",
    "import seaborn as sns\n",
    "import scipy"
   ]
  },
  {
   "cell_type": "code",
   "execution_count": 2,
   "id": "3fc6beab",
   "metadata": {},
   "outputs": [],
   "source": [
    "# Define path to data\n",
    "\n",
    "path = r'/Users/louise/Desktop/CF Coursework/Achievement 4 /Instacart Basket Analysis'"
   ]
  },
  {
   "cell_type": "code",
   "execution_count": 3,
   "id": "8735c75e",
   "metadata": {},
   "outputs": [],
   "source": [
    "# Import prepared data\n",
    "\n",
    "\n",
    "ords_prods_merge = pd.read_pickle(os.path.join(path, '02 Data', 'Prepared Data','orders_products_customers.pkl'))"
   ]
  },
  {
   "cell_type": "markdown",
   "id": "ec5dea5c",
   "metadata": {},
   "source": [
    "## 02. Check data, consider security of PII"
   ]
  },
  {
   "cell_type": "code",
   "execution_count": 10,
   "id": "64d6cc7b",
   "metadata": {},
   "outputs": [
    {
     "data": {
      "text/html": [
       "<div>\n",
       "<style scoped>\n",
       "    .dataframe tbody tr th:only-of-type {\n",
       "        vertical-align: middle;\n",
       "    }\n",
       "\n",
       "    .dataframe tbody tr th {\n",
       "        vertical-align: top;\n",
       "    }\n",
       "\n",
       "    .dataframe thead th {\n",
       "        text-align: right;\n",
       "    }\n",
       "</style>\n",
       "<table border=\"1\" class=\"dataframe\">\n",
       "  <thead>\n",
       "    <tr style=\"text-align: right;\">\n",
       "      <th></th>\n",
       "      <th>order_id</th>\n",
       "      <th>user_id</th>\n",
       "      <th>order_number</th>\n",
       "      <th>order_day_of_week</th>\n",
       "      <th>order_hour_of_day</th>\n",
       "      <th>days_since_prior_order</th>\n",
       "      <th>product_id</th>\n",
       "      <th>add_to_cart_order</th>\n",
       "      <th>reordered</th>\n",
       "      <th>product_name</th>\n",
       "      <th>...</th>\n",
       "      <th>first_name</th>\n",
       "      <th>last_name</th>\n",
       "      <th>gender</th>\n",
       "      <th>state</th>\n",
       "      <th>age</th>\n",
       "      <th>date_joined</th>\n",
       "      <th>num_of_dependants</th>\n",
       "      <th>marital_status</th>\n",
       "      <th>income</th>\n",
       "      <th>_merge</th>\n",
       "    </tr>\n",
       "  </thead>\n",
       "  <tbody>\n",
       "    <tr>\n",
       "      <th>0</th>\n",
       "      <td>2539329</td>\n",
       "      <td>1</td>\n",
       "      <td>1</td>\n",
       "      <td>2</td>\n",
       "      <td>8</td>\n",
       "      <td>NaN</td>\n",
       "      <td>196</td>\n",
       "      <td>1</td>\n",
       "      <td>0</td>\n",
       "      <td>Soda</td>\n",
       "      <td>...</td>\n",
       "      <td>Linda</td>\n",
       "      <td>Nguyen</td>\n",
       "      <td>Female</td>\n",
       "      <td>Alabama</td>\n",
       "      <td>31</td>\n",
       "      <td>2/17/2019</td>\n",
       "      <td>3</td>\n",
       "      <td>married</td>\n",
       "      <td>40423</td>\n",
       "      <td>both</td>\n",
       "    </tr>\n",
       "    <tr>\n",
       "      <th>1</th>\n",
       "      <td>2398795</td>\n",
       "      <td>1</td>\n",
       "      <td>2</td>\n",
       "      <td>3</td>\n",
       "      <td>7</td>\n",
       "      <td>15.0</td>\n",
       "      <td>196</td>\n",
       "      <td>1</td>\n",
       "      <td>1</td>\n",
       "      <td>Soda</td>\n",
       "      <td>...</td>\n",
       "      <td>Linda</td>\n",
       "      <td>Nguyen</td>\n",
       "      <td>Female</td>\n",
       "      <td>Alabama</td>\n",
       "      <td>31</td>\n",
       "      <td>2/17/2019</td>\n",
       "      <td>3</td>\n",
       "      <td>married</td>\n",
       "      <td>40423</td>\n",
       "      <td>both</td>\n",
       "    </tr>\n",
       "    <tr>\n",
       "      <th>2</th>\n",
       "      <td>473747</td>\n",
       "      <td>1</td>\n",
       "      <td>3</td>\n",
       "      <td>3</td>\n",
       "      <td>12</td>\n",
       "      <td>21.0</td>\n",
       "      <td>196</td>\n",
       "      <td>1</td>\n",
       "      <td>1</td>\n",
       "      <td>Soda</td>\n",
       "      <td>...</td>\n",
       "      <td>Linda</td>\n",
       "      <td>Nguyen</td>\n",
       "      <td>Female</td>\n",
       "      <td>Alabama</td>\n",
       "      <td>31</td>\n",
       "      <td>2/17/2019</td>\n",
       "      <td>3</td>\n",
       "      <td>married</td>\n",
       "      <td>40423</td>\n",
       "      <td>both</td>\n",
       "    </tr>\n",
       "    <tr>\n",
       "      <th>3</th>\n",
       "      <td>2254736</td>\n",
       "      <td>1</td>\n",
       "      <td>4</td>\n",
       "      <td>4</td>\n",
       "      <td>7</td>\n",
       "      <td>29.0</td>\n",
       "      <td>196</td>\n",
       "      <td>1</td>\n",
       "      <td>1</td>\n",
       "      <td>Soda</td>\n",
       "      <td>...</td>\n",
       "      <td>Linda</td>\n",
       "      <td>Nguyen</td>\n",
       "      <td>Female</td>\n",
       "      <td>Alabama</td>\n",
       "      <td>31</td>\n",
       "      <td>2/17/2019</td>\n",
       "      <td>3</td>\n",
       "      <td>married</td>\n",
       "      <td>40423</td>\n",
       "      <td>both</td>\n",
       "    </tr>\n",
       "    <tr>\n",
       "      <th>4</th>\n",
       "      <td>431534</td>\n",
       "      <td>1</td>\n",
       "      <td>5</td>\n",
       "      <td>4</td>\n",
       "      <td>15</td>\n",
       "      <td>28.0</td>\n",
       "      <td>196</td>\n",
       "      <td>1</td>\n",
       "      <td>1</td>\n",
       "      <td>Soda</td>\n",
       "      <td>...</td>\n",
       "      <td>Linda</td>\n",
       "      <td>Nguyen</td>\n",
       "      <td>Female</td>\n",
       "      <td>Alabama</td>\n",
       "      <td>31</td>\n",
       "      <td>2/17/2019</td>\n",
       "      <td>3</td>\n",
       "      <td>married</td>\n",
       "      <td>40423</td>\n",
       "      <td>both</td>\n",
       "    </tr>\n",
       "  </tbody>\n",
       "</table>\n",
       "<p>5 rows × 32 columns</p>\n",
       "</div>"
      ],
      "text/plain": [
       "   order_id  user_id  order_number  order_day_of_week  order_hour_of_day  \\\n",
       "0   2539329        1             1                  2                  8   \n",
       "1   2398795        1             2                  3                  7   \n",
       "2    473747        1             3                  3                 12   \n",
       "3   2254736        1             4                  4                  7   \n",
       "4    431534        1             5                  4                 15   \n",
       "\n",
       "   days_since_prior_order  product_id  add_to_cart_order  reordered  \\\n",
       "0                     NaN         196                  1          0   \n",
       "1                    15.0         196                  1          1   \n",
       "2                    21.0         196                  1          1   \n",
       "3                    29.0         196                  1          1   \n",
       "4                    28.0         196                  1          1   \n",
       "\n",
       "  product_name  ...  first_name  last_name  gender    state age date_joined  \\\n",
       "0         Soda  ...       Linda     Nguyen  Female  Alabama  31   2/17/2019   \n",
       "1         Soda  ...       Linda     Nguyen  Female  Alabama  31   2/17/2019   \n",
       "2         Soda  ...       Linda     Nguyen  Female  Alabama  31   2/17/2019   \n",
       "3         Soda  ...       Linda     Nguyen  Female  Alabama  31   2/17/2019   \n",
       "4         Soda  ...       Linda     Nguyen  Female  Alabama  31   2/17/2019   \n",
       "\n",
       "   num_of_dependants marital_status  income _merge  \n",
       "0                  3        married   40423   both  \n",
       "1                  3        married   40423   both  \n",
       "2                  3        married   40423   both  \n",
       "3                  3        married   40423   both  \n",
       "4                  3        married   40423   both  \n",
       "\n",
       "[5 rows x 32 columns]"
      ]
     },
     "execution_count": 10,
     "metadata": {},
     "output_type": "execute_result"
    }
   ],
   "source": [
    "ords_prods_merge.head()"
   ]
  },
  {
   "cell_type": "code",
   "execution_count": 4,
   "id": "050b546c",
   "metadata": {},
   "outputs": [],
   "source": [
    "# Drop _merge column and shorten name to df\n",
    "\n",
    "df = ords_prods_merge.drop(columns = ['_merge'])"
   ]
  },
  {
   "cell_type": "code",
   "execution_count": 6,
   "id": "3ae7dbad",
   "metadata": {},
   "outputs": [
    {
     "data": {
      "text/html": [
       "<div>\n",
       "<style scoped>\n",
       "    .dataframe tbody tr th:only-of-type {\n",
       "        vertical-align: middle;\n",
       "    }\n",
       "\n",
       "    .dataframe tbody tr th {\n",
       "        vertical-align: top;\n",
       "    }\n",
       "\n",
       "    .dataframe thead th {\n",
       "        text-align: right;\n",
       "    }\n",
       "</style>\n",
       "<table border=\"1\" class=\"dataframe\">\n",
       "  <thead>\n",
       "    <tr style=\"text-align: right;\">\n",
       "      <th></th>\n",
       "      <th>order_id</th>\n",
       "      <th>user_id</th>\n",
       "      <th>order_number</th>\n",
       "      <th>order_day_of_week</th>\n",
       "      <th>order_hour_of_day</th>\n",
       "      <th>days_since_prior_order</th>\n",
       "      <th>product_id</th>\n",
       "      <th>add_to_cart_order</th>\n",
       "      <th>reordered</th>\n",
       "      <th>product_name</th>\n",
       "      <th>...</th>\n",
       "      <th>frequency_flag</th>\n",
       "      <th>first_name</th>\n",
       "      <th>last_name</th>\n",
       "      <th>gender</th>\n",
       "      <th>state</th>\n",
       "      <th>age</th>\n",
       "      <th>date_joined</th>\n",
       "      <th>num_of_dependants</th>\n",
       "      <th>marital_status</th>\n",
       "      <th>income</th>\n",
       "    </tr>\n",
       "  </thead>\n",
       "  <tbody>\n",
       "    <tr>\n",
       "      <th>0</th>\n",
       "      <td>2539329</td>\n",
       "      <td>1</td>\n",
       "      <td>1</td>\n",
       "      <td>2</td>\n",
       "      <td>8</td>\n",
       "      <td>NaN</td>\n",
       "      <td>196</td>\n",
       "      <td>1</td>\n",
       "      <td>0</td>\n",
       "      <td>Soda</td>\n",
       "      <td>...</td>\n",
       "      <td>Infrequent</td>\n",
       "      <td>Linda</td>\n",
       "      <td>Nguyen</td>\n",
       "      <td>Female</td>\n",
       "      <td>Alabama</td>\n",
       "      <td>31</td>\n",
       "      <td>2/17/2019</td>\n",
       "      <td>3</td>\n",
       "      <td>married</td>\n",
       "      <td>40423</td>\n",
       "    </tr>\n",
       "    <tr>\n",
       "      <th>1</th>\n",
       "      <td>2398795</td>\n",
       "      <td>1</td>\n",
       "      <td>2</td>\n",
       "      <td>3</td>\n",
       "      <td>7</td>\n",
       "      <td>15.0</td>\n",
       "      <td>196</td>\n",
       "      <td>1</td>\n",
       "      <td>1</td>\n",
       "      <td>Soda</td>\n",
       "      <td>...</td>\n",
       "      <td>Infrequent</td>\n",
       "      <td>Linda</td>\n",
       "      <td>Nguyen</td>\n",
       "      <td>Female</td>\n",
       "      <td>Alabama</td>\n",
       "      <td>31</td>\n",
       "      <td>2/17/2019</td>\n",
       "      <td>3</td>\n",
       "      <td>married</td>\n",
       "      <td>40423</td>\n",
       "    </tr>\n",
       "    <tr>\n",
       "      <th>2</th>\n",
       "      <td>473747</td>\n",
       "      <td>1</td>\n",
       "      <td>3</td>\n",
       "      <td>3</td>\n",
       "      <td>12</td>\n",
       "      <td>21.0</td>\n",
       "      <td>196</td>\n",
       "      <td>1</td>\n",
       "      <td>1</td>\n",
       "      <td>Soda</td>\n",
       "      <td>...</td>\n",
       "      <td>Infrequent</td>\n",
       "      <td>Linda</td>\n",
       "      <td>Nguyen</td>\n",
       "      <td>Female</td>\n",
       "      <td>Alabama</td>\n",
       "      <td>31</td>\n",
       "      <td>2/17/2019</td>\n",
       "      <td>3</td>\n",
       "      <td>married</td>\n",
       "      <td>40423</td>\n",
       "    </tr>\n",
       "    <tr>\n",
       "      <th>3</th>\n",
       "      <td>2254736</td>\n",
       "      <td>1</td>\n",
       "      <td>4</td>\n",
       "      <td>4</td>\n",
       "      <td>7</td>\n",
       "      <td>29.0</td>\n",
       "      <td>196</td>\n",
       "      <td>1</td>\n",
       "      <td>1</td>\n",
       "      <td>Soda</td>\n",
       "      <td>...</td>\n",
       "      <td>Infrequent</td>\n",
       "      <td>Linda</td>\n",
       "      <td>Nguyen</td>\n",
       "      <td>Female</td>\n",
       "      <td>Alabama</td>\n",
       "      <td>31</td>\n",
       "      <td>2/17/2019</td>\n",
       "      <td>3</td>\n",
       "      <td>married</td>\n",
       "      <td>40423</td>\n",
       "    </tr>\n",
       "    <tr>\n",
       "      <th>4</th>\n",
       "      <td>431534</td>\n",
       "      <td>1</td>\n",
       "      <td>5</td>\n",
       "      <td>4</td>\n",
       "      <td>15</td>\n",
       "      <td>28.0</td>\n",
       "      <td>196</td>\n",
       "      <td>1</td>\n",
       "      <td>1</td>\n",
       "      <td>Soda</td>\n",
       "      <td>...</td>\n",
       "      <td>Infrequent</td>\n",
       "      <td>Linda</td>\n",
       "      <td>Nguyen</td>\n",
       "      <td>Female</td>\n",
       "      <td>Alabama</td>\n",
       "      <td>31</td>\n",
       "      <td>2/17/2019</td>\n",
       "      <td>3</td>\n",
       "      <td>married</td>\n",
       "      <td>40423</td>\n",
       "    </tr>\n",
       "  </tbody>\n",
       "</table>\n",
       "<p>5 rows × 31 columns</p>\n",
       "</div>"
      ],
      "text/plain": [
       "   order_id  user_id  order_number  order_day_of_week  order_hour_of_day  \\\n",
       "0   2539329        1             1                  2                  8   \n",
       "1   2398795        1             2                  3                  7   \n",
       "2    473747        1             3                  3                 12   \n",
       "3   2254736        1             4                  4                  7   \n",
       "4    431534        1             5                  4                 15   \n",
       "\n",
       "   days_since_prior_order  product_id  add_to_cart_order  reordered  \\\n",
       "0                     NaN         196                  1          0   \n",
       "1                    15.0         196                  1          1   \n",
       "2                    21.0         196                  1          1   \n",
       "3                    29.0         196                  1          1   \n",
       "4                    28.0         196                  1          1   \n",
       "\n",
       "  product_name  ...  frequency_flag  first_name  last_name  gender    state  \\\n",
       "0         Soda  ...      Infrequent       Linda     Nguyen  Female  Alabama   \n",
       "1         Soda  ...      Infrequent       Linda     Nguyen  Female  Alabama   \n",
       "2         Soda  ...      Infrequent       Linda     Nguyen  Female  Alabama   \n",
       "3         Soda  ...      Infrequent       Linda     Nguyen  Female  Alabama   \n",
       "4         Soda  ...      Infrequent       Linda     Nguyen  Female  Alabama   \n",
       "\n",
       "  age  date_joined num_of_dependants  marital_status income  \n",
       "0  31    2/17/2019                 3         married  40423  \n",
       "1  31    2/17/2019                 3         married  40423  \n",
       "2  31    2/17/2019                 3         married  40423  \n",
       "3  31    2/17/2019                 3         married  40423  \n",
       "4  31    2/17/2019                 3         married  40423  \n",
       "\n",
       "[5 rows x 31 columns]"
      ]
     },
     "execution_count": 6,
     "metadata": {},
     "output_type": "execute_result"
    }
   ],
   "source": [
    "df.head()"
   ]
  },
  {
   "cell_type": "markdown",
   "id": "ace85c4f",
   "metadata": {},
   "source": [
    "Security considerations: The customers data in orders_products_cutomers just uploaded contains clear personal identifiers. Fortunately, however, it has been fabricated for the purpose of this exercise, so no actual humans are being identified here."
   ]
  },
  {
   "cell_type": "markdown",
   "id": "9079a3f6",
   "metadata": {},
   "source": [
    "## 03. Regional coding"
   ]
  },
  {
   "cell_type": "code",
   "execution_count": 5,
   "id": "1e95065a",
   "metadata": {},
   "outputs": [],
   "source": [
    "# Make a dictionary defining the region of each U.S. state\n",
    "\n",
    "states_to_regions = {\n",
    "    'Washington': 'West', 'Oregon': 'West', 'California': 'West', 'Nevada': 'West',\n",
    "    'Idaho': 'West', 'Montana': 'West', 'Wyoming': 'West', 'Utah': 'West',\n",
    "    'Colorado': 'West', 'Alaska': 'West', 'Hawaii': 'West', 'Maine': 'Northeast',\n",
    "    'Vermont': 'Northeast', 'New York': 'Northeast', 'New Hampshire': 'Northeast',\n",
    "    'Massachusetts': 'Northeast', 'Rhode Island': 'Northeast', 'Connecticut': 'Northeast',\n",
    "    'New Jersey': 'Northeast', 'Pennsylvania': 'Northeast', 'North Dakota': 'Midwest',\n",
    "    'South Dakota': 'Midwest', 'Nebraska': 'Midwest', 'Kansas': 'Midwest',\n",
    "    'Minnesota': 'Midwest', 'Iowa': 'Midwest', 'Missouri': 'Midwest', 'Wisconsin': 'Midwest',\n",
    "    'Illinois': 'Midwest', 'Michigan': 'Midwest', 'Indiana': 'Midwest', 'Ohio': 'Midwest',\n",
    "    'West Virginia': 'South', 'District of Columbia': 'South', 'Maryland': 'South',\n",
    "    'Virginia': 'South', 'Kentucky': 'South', 'Tennessee': 'South', 'North Carolina': 'South',\n",
    "    'Mississippi': 'South', 'Arkansas': 'South', 'Louisiana': 'South', 'Alabama': 'South',\n",
    "    'Georgia': 'South', 'South Carolina': 'South', 'Florida': 'South', 'Delaware': 'South',\n",
    "    'Arizona': 'Southwest', 'New Mexico': 'Southwest', 'Oklahoma': 'Southwest',\n",
    "    'Texas': 'Southwest'}"
   ]
  },
  {
   "cell_type": "code",
   "execution_count": 13,
   "id": "80f4a715",
   "metadata": {},
   "outputs": [
    {
     "name": "stdout",
     "output_type": "stream",
     "text": [
      "West\n"
     ]
    }
   ],
   "source": [
    "print(states_to_regions.get('Washington'))"
   ]
  },
  {
   "cell_type": "code",
   "execution_count": 6,
   "id": "46f0767e",
   "metadata": {},
   "outputs": [],
   "source": [
    "# Create a column in the dataframe defining region based on state\n",
    "\n",
    "df['region'] = df['state'].map(states_to_regions)"
   ]
  },
  {
   "cell_type": "code",
   "execution_count": 7,
   "id": "309dd912",
   "metadata": {},
   "outputs": [
    {
     "data": {
      "text/plain": [
       "South        9499752\n",
       "Midwest      7597325\n",
       "West         6984455\n",
       "Northeast    5722736\n",
       "Southwest    2600591\n",
       "Name: region, dtype: int64"
      ]
     },
     "execution_count": 7,
     "metadata": {},
     "output_type": "execute_result"
    }
   ],
   "source": [
    "df['region'].value_counts()"
   ]
  },
  {
   "cell_type": "code",
   "execution_count": 12,
   "id": "d7d9811e",
   "metadata": {},
   "outputs": [],
   "source": [
    "# Crosscheck region with spending_flag\n",
    "\n",
    "crosstab = pd.crosstab(df['region'], ords_prods_merge['spending_flag'], dropna = False)"
   ]
  },
  {
   "cell_type": "code",
   "execution_count": 104,
   "id": "303c4386",
   "metadata": {},
   "outputs": [],
   "source": [
    "crosstab.to_clipboard()"
   ]
  },
  {
   "cell_type": "markdown",
   "id": "16dd648c",
   "metadata": {},
   "source": [
    "In all 5 regions, high spenders only make up about 2% of customers. The highest percentage is in the Midwest, at 2.05%, the lowest in the Northeast at 1.89% "
   ]
  },
  {
   "cell_type": "markdown",
   "id": "1bc0adea",
   "metadata": {},
   "source": [
    "## 04. Exclude low-activity customers"
   ]
  },
  {
   "cell_type": "code",
   "execution_count": 8,
   "id": "a2db1386",
   "metadata": {},
   "outputs": [],
   "source": [
    "# Flag customers with low total orders\n",
    "\n",
    "result = []\n",
    "\n",
    "for value in df['max_order']:\n",
    "  if value < 5:\n",
    "    result.append('low-activity customer')\n",
    "  else:\n",
    "    result.append('Regular activity customer')"
   ]
  },
  {
   "cell_type": "code",
   "execution_count": 9,
   "id": "7eaa220d",
   "metadata": {},
   "outputs": [],
   "source": [
    "# Add as column to df\n",
    "\n",
    "df['activity_flag'] = result"
   ]
  },
  {
   "cell_type": "code",
   "execution_count": 10,
   "id": "7d9eb942",
   "metadata": {},
   "outputs": [
    {
     "data": {
      "text/plain": [
       "Regular activity customer    30964564\n",
       "low-activity customer         1440295\n",
       "Name: activity_flag, dtype: int64"
      ]
     },
     "execution_count": 10,
     "metadata": {},
     "output_type": "execute_result"
    }
   ],
   "source": [
    "# Check output\n",
    "\n",
    "df['activity_flag'].value_counts()"
   ]
  },
  {
   "cell_type": "code",
   "execution_count": 11,
   "id": "76f9fe8d",
   "metadata": {},
   "outputs": [
    {
     "data": {
      "text/html": [
       "<div>\n",
       "<style scoped>\n",
       "    .dataframe tbody tr th:only-of-type {\n",
       "        vertical-align: middle;\n",
       "    }\n",
       "\n",
       "    .dataframe tbody tr th {\n",
       "        vertical-align: top;\n",
       "    }\n",
       "\n",
       "    .dataframe thead th {\n",
       "        text-align: right;\n",
       "    }\n",
       "</style>\n",
       "<table border=\"1\" class=\"dataframe\">\n",
       "  <thead>\n",
       "    <tr style=\"text-align: right;\">\n",
       "      <th></th>\n",
       "      <th>order_id</th>\n",
       "      <th>user_id</th>\n",
       "      <th>order_number</th>\n",
       "      <th>order_day_of_week</th>\n",
       "      <th>order_hour_of_day</th>\n",
       "      <th>days_since_prior_order</th>\n",
       "      <th>product_id</th>\n",
       "      <th>add_to_cart_order</th>\n",
       "      <th>reordered</th>\n",
       "      <th>product_name</th>\n",
       "      <th>...</th>\n",
       "      <th>last_name</th>\n",
       "      <th>gender</th>\n",
       "      <th>state</th>\n",
       "      <th>age</th>\n",
       "      <th>date_joined</th>\n",
       "      <th>num_of_dependants</th>\n",
       "      <th>marital_status</th>\n",
       "      <th>income</th>\n",
       "      <th>region</th>\n",
       "      <th>activity_flag</th>\n",
       "    </tr>\n",
       "  </thead>\n",
       "  <tbody>\n",
       "    <tr>\n",
       "      <th>1510</th>\n",
       "      <td>520620</td>\n",
       "      <td>120</td>\n",
       "      <td>1</td>\n",
       "      <td>3</td>\n",
       "      <td>11</td>\n",
       "      <td>NaN</td>\n",
       "      <td>196</td>\n",
       "      <td>2</td>\n",
       "      <td>0</td>\n",
       "      <td>Soda</td>\n",
       "      <td>...</td>\n",
       "      <td>Rich</td>\n",
       "      <td>Female</td>\n",
       "      <td>Kentucky</td>\n",
       "      <td>54</td>\n",
       "      <td>3/2/2017</td>\n",
       "      <td>2</td>\n",
       "      <td>married</td>\n",
       "      <td>99219</td>\n",
       "      <td>South</td>\n",
       "      <td>low-activity customer</td>\n",
       "    </tr>\n",
       "    <tr>\n",
       "      <th>1511</th>\n",
       "      <td>3273029</td>\n",
       "      <td>120</td>\n",
       "      <td>3</td>\n",
       "      <td>2</td>\n",
       "      <td>8</td>\n",
       "      <td>19.0</td>\n",
       "      <td>196</td>\n",
       "      <td>2</td>\n",
       "      <td>1</td>\n",
       "      <td>Soda</td>\n",
       "      <td>...</td>\n",
       "      <td>Rich</td>\n",
       "      <td>Female</td>\n",
       "      <td>Kentucky</td>\n",
       "      <td>54</td>\n",
       "      <td>3/2/2017</td>\n",
       "      <td>2</td>\n",
       "      <td>married</td>\n",
       "      <td>99219</td>\n",
       "      <td>South</td>\n",
       "      <td>low-activity customer</td>\n",
       "    </tr>\n",
       "    <tr>\n",
       "      <th>1512</th>\n",
       "      <td>520620</td>\n",
       "      <td>120</td>\n",
       "      <td>1</td>\n",
       "      <td>3</td>\n",
       "      <td>11</td>\n",
       "      <td>NaN</td>\n",
       "      <td>46149</td>\n",
       "      <td>1</td>\n",
       "      <td>0</td>\n",
       "      <td>Zero Calorie Cola</td>\n",
       "      <td>...</td>\n",
       "      <td>Rich</td>\n",
       "      <td>Female</td>\n",
       "      <td>Kentucky</td>\n",
       "      <td>54</td>\n",
       "      <td>3/2/2017</td>\n",
       "      <td>2</td>\n",
       "      <td>married</td>\n",
       "      <td>99219</td>\n",
       "      <td>South</td>\n",
       "      <td>low-activity customer</td>\n",
       "    </tr>\n",
       "    <tr>\n",
       "      <th>1513</th>\n",
       "      <td>3273029</td>\n",
       "      <td>120</td>\n",
       "      <td>3</td>\n",
       "      <td>2</td>\n",
       "      <td>8</td>\n",
       "      <td>19.0</td>\n",
       "      <td>46149</td>\n",
       "      <td>1</td>\n",
       "      <td>1</td>\n",
       "      <td>Zero Calorie Cola</td>\n",
       "      <td>...</td>\n",
       "      <td>Rich</td>\n",
       "      <td>Female</td>\n",
       "      <td>Kentucky</td>\n",
       "      <td>54</td>\n",
       "      <td>3/2/2017</td>\n",
       "      <td>2</td>\n",
       "      <td>married</td>\n",
       "      <td>99219</td>\n",
       "      <td>South</td>\n",
       "      <td>low-activity customer</td>\n",
       "    </tr>\n",
       "    <tr>\n",
       "      <th>1514</th>\n",
       "      <td>520620</td>\n",
       "      <td>120</td>\n",
       "      <td>1</td>\n",
       "      <td>3</td>\n",
       "      <td>11</td>\n",
       "      <td>NaN</td>\n",
       "      <td>26348</td>\n",
       "      <td>3</td>\n",
       "      <td>0</td>\n",
       "      <td>Mixed Fruit Fruit Snacks</td>\n",
       "      <td>...</td>\n",
       "      <td>Rich</td>\n",
       "      <td>Female</td>\n",
       "      <td>Kentucky</td>\n",
       "      <td>54</td>\n",
       "      <td>3/2/2017</td>\n",
       "      <td>2</td>\n",
       "      <td>married</td>\n",
       "      <td>99219</td>\n",
       "      <td>South</td>\n",
       "      <td>low-activity customer</td>\n",
       "    </tr>\n",
       "    <tr>\n",
       "      <th>...</th>\n",
       "      <td>...</td>\n",
       "      <td>...</td>\n",
       "      <td>...</td>\n",
       "      <td>...</td>\n",
       "      <td>...</td>\n",
       "      <td>...</td>\n",
       "      <td>...</td>\n",
       "      <td>...</td>\n",
       "      <td>...</td>\n",
       "      <td>...</td>\n",
       "      <td>...</td>\n",
       "      <td>...</td>\n",
       "      <td>...</td>\n",
       "      <td>...</td>\n",
       "      <td>...</td>\n",
       "      <td>...</td>\n",
       "      <td>...</td>\n",
       "      <td>...</td>\n",
       "      <td>...</td>\n",
       "      <td>...</td>\n",
       "      <td>...</td>\n",
       "    </tr>\n",
       "    <tr>\n",
       "      <th>32404828</th>\n",
       "      <td>1947537</td>\n",
       "      <td>166751</td>\n",
       "      <td>3</td>\n",
       "      <td>4</td>\n",
       "      <td>7</td>\n",
       "      <td>0.0</td>\n",
       "      <td>49001</td>\n",
       "      <td>1</td>\n",
       "      <td>1</td>\n",
       "      <td>Melatonin 2.5 Mg Sublingual Orange Tablets</td>\n",
       "      <td>...</td>\n",
       "      <td>Glass</td>\n",
       "      <td>Female</td>\n",
       "      <td>Oregon</td>\n",
       "      <td>38</td>\n",
       "      <td>8/17/2018</td>\n",
       "      <td>1</td>\n",
       "      <td>married</td>\n",
       "      <td>41766</td>\n",
       "      <td>West</td>\n",
       "      <td>low-activity customer</td>\n",
       "    </tr>\n",
       "    <tr>\n",
       "      <th>32404855</th>\n",
       "      <td>484769</td>\n",
       "      <td>66343</td>\n",
       "      <td>1</td>\n",
       "      <td>6</td>\n",
       "      <td>11</td>\n",
       "      <td>NaN</td>\n",
       "      <td>47210</td>\n",
       "      <td>1</td>\n",
       "      <td>0</td>\n",
       "      <td>Fresh Farmed Tilapia Fillet</td>\n",
       "      <td>...</td>\n",
       "      <td>Arroyo</td>\n",
       "      <td>Female</td>\n",
       "      <td>Tennessee</td>\n",
       "      <td>22</td>\n",
       "      <td>9/12/2017</td>\n",
       "      <td>3</td>\n",
       "      <td>married</td>\n",
       "      <td>46151</td>\n",
       "      <td>South</td>\n",
       "      <td>low-activity customer</td>\n",
       "    </tr>\n",
       "    <tr>\n",
       "      <th>32404856</th>\n",
       "      <td>1561557</td>\n",
       "      <td>66343</td>\n",
       "      <td>2</td>\n",
       "      <td>1</td>\n",
       "      <td>11</td>\n",
       "      <td>30.0</td>\n",
       "      <td>47210</td>\n",
       "      <td>1</td>\n",
       "      <td>1</td>\n",
       "      <td>Fresh Farmed Tilapia Fillet</td>\n",
       "      <td>...</td>\n",
       "      <td>Arroyo</td>\n",
       "      <td>Female</td>\n",
       "      <td>Tennessee</td>\n",
       "      <td>22</td>\n",
       "      <td>9/12/2017</td>\n",
       "      <td>3</td>\n",
       "      <td>married</td>\n",
       "      <td>46151</td>\n",
       "      <td>South</td>\n",
       "      <td>low-activity customer</td>\n",
       "    </tr>\n",
       "    <tr>\n",
       "      <th>32404857</th>\n",
       "      <td>276317</td>\n",
       "      <td>66343</td>\n",
       "      <td>3</td>\n",
       "      <td>6</td>\n",
       "      <td>15</td>\n",
       "      <td>19.0</td>\n",
       "      <td>47210</td>\n",
       "      <td>1</td>\n",
       "      <td>1</td>\n",
       "      <td>Fresh Farmed Tilapia Fillet</td>\n",
       "      <td>...</td>\n",
       "      <td>Arroyo</td>\n",
       "      <td>Female</td>\n",
       "      <td>Tennessee</td>\n",
       "      <td>22</td>\n",
       "      <td>9/12/2017</td>\n",
       "      <td>3</td>\n",
       "      <td>married</td>\n",
       "      <td>46151</td>\n",
       "      <td>South</td>\n",
       "      <td>low-activity customer</td>\n",
       "    </tr>\n",
       "    <tr>\n",
       "      <th>32404858</th>\n",
       "      <td>2922475</td>\n",
       "      <td>66343</td>\n",
       "      <td>4</td>\n",
       "      <td>1</td>\n",
       "      <td>12</td>\n",
       "      <td>30.0</td>\n",
       "      <td>47210</td>\n",
       "      <td>1</td>\n",
       "      <td>1</td>\n",
       "      <td>Fresh Farmed Tilapia Fillet</td>\n",
       "      <td>...</td>\n",
       "      <td>Arroyo</td>\n",
       "      <td>Female</td>\n",
       "      <td>Tennessee</td>\n",
       "      <td>22</td>\n",
       "      <td>9/12/2017</td>\n",
       "      <td>3</td>\n",
       "      <td>married</td>\n",
       "      <td>46151</td>\n",
       "      <td>South</td>\n",
       "      <td>low-activity customer</td>\n",
       "    </tr>\n",
       "  </tbody>\n",
       "</table>\n",
       "<p>1440295 rows × 33 columns</p>\n",
       "</div>"
      ],
      "text/plain": [
       "          order_id  user_id  order_number  order_day_of_week  \\\n",
       "1510        520620      120             1                  3   \n",
       "1511       3273029      120             3                  2   \n",
       "1512        520620      120             1                  3   \n",
       "1513       3273029      120             3                  2   \n",
       "1514        520620      120             1                  3   \n",
       "...            ...      ...           ...                ...   \n",
       "32404828   1947537   166751             3                  4   \n",
       "32404855    484769    66343             1                  6   \n",
       "32404856   1561557    66343             2                  1   \n",
       "32404857    276317    66343             3                  6   \n",
       "32404858   2922475    66343             4                  1   \n",
       "\n",
       "          order_hour_of_day  days_since_prior_order  product_id  \\\n",
       "1510                     11                     NaN         196   \n",
       "1511                      8                    19.0         196   \n",
       "1512                     11                     NaN       46149   \n",
       "1513                      8                    19.0       46149   \n",
       "1514                     11                     NaN       26348   \n",
       "...                     ...                     ...         ...   \n",
       "32404828                  7                     0.0       49001   \n",
       "32404855                 11                     NaN       47210   \n",
       "32404856                 11                    30.0       47210   \n",
       "32404857                 15                    19.0       47210   \n",
       "32404858                 12                    30.0       47210   \n",
       "\n",
       "          add_to_cart_order  reordered  \\\n",
       "1510                      2          0   \n",
       "1511                      2          1   \n",
       "1512                      1          0   \n",
       "1513                      1          1   \n",
       "1514                      3          0   \n",
       "...                     ...        ...   \n",
       "32404828                  1          1   \n",
       "32404855                  1          0   \n",
       "32404856                  1          1   \n",
       "32404857                  1          1   \n",
       "32404858                  1          1   \n",
       "\n",
       "                                        product_name  ...  last_name  gender  \\\n",
       "1510                                            Soda  ...       Rich  Female   \n",
       "1511                                            Soda  ...       Rich  Female   \n",
       "1512                               Zero Calorie Cola  ...       Rich  Female   \n",
       "1513                               Zero Calorie Cola  ...       Rich  Female   \n",
       "1514                        Mixed Fruit Fruit Snacks  ...       Rich  Female   \n",
       "...                                              ...  ...        ...     ...   \n",
       "32404828  Melatonin 2.5 Mg Sublingual Orange Tablets  ...      Glass  Female   \n",
       "32404855                 Fresh Farmed Tilapia Fillet  ...     Arroyo  Female   \n",
       "32404856                 Fresh Farmed Tilapia Fillet  ...     Arroyo  Female   \n",
       "32404857                 Fresh Farmed Tilapia Fillet  ...     Arroyo  Female   \n",
       "32404858                 Fresh Farmed Tilapia Fillet  ...     Arroyo  Female   \n",
       "\n",
       "              state age date_joined num_of_dependants  marital_status income  \\\n",
       "1510       Kentucky  54    3/2/2017                 2         married  99219   \n",
       "1511       Kentucky  54    3/2/2017                 2         married  99219   \n",
       "1512       Kentucky  54    3/2/2017                 2         married  99219   \n",
       "1513       Kentucky  54    3/2/2017                 2         married  99219   \n",
       "1514       Kentucky  54    3/2/2017                 2         married  99219   \n",
       "...             ...  ..         ...               ...             ...    ...   \n",
       "32404828     Oregon  38   8/17/2018                 1         married  41766   \n",
       "32404855  Tennessee  22   9/12/2017                 3         married  46151   \n",
       "32404856  Tennessee  22   9/12/2017                 3         married  46151   \n",
       "32404857  Tennessee  22   9/12/2017                 3         married  46151   \n",
       "32404858  Tennessee  22   9/12/2017                 3         married  46151   \n",
       "\n",
       "          region          activity_flag  \n",
       "1510       South  low-activity customer  \n",
       "1511       South  low-activity customer  \n",
       "1512       South  low-activity customer  \n",
       "1513       South  low-activity customer  \n",
       "1514       South  low-activity customer  \n",
       "...          ...                    ...  \n",
       "32404828    West  low-activity customer  \n",
       "32404855   South  low-activity customer  \n",
       "32404856   South  low-activity customer  \n",
       "32404857   South  low-activity customer  \n",
       "32404858   South  low-activity customer  \n",
       "\n",
       "[1440295 rows x 33 columns]"
      ]
     },
     "execution_count": 11,
     "metadata": {},
     "output_type": "execute_result"
    }
   ],
   "source": [
    "# Create a subset of low-activity customers. \n",
    "\n",
    "df[df['activity_flag'] == 'low-activity customer']"
   ]
  },
  {
   "cell_type": "code",
   "execution_count": 12,
   "id": "68914657",
   "metadata": {},
   "outputs": [],
   "source": [
    "# Make subset into dataframe\n",
    "\n",
    "df_low_act = df[df['activity_flag'] == 'low-activity customer']"
   ]
  },
  {
   "cell_type": "code",
   "execution_count": 13,
   "id": "84ae6c06",
   "metadata": {},
   "outputs": [],
   "source": [
    "# Make a dataframe excluding low-activity customers\n",
    "\n",
    "df_active = df[df['activity_flag'] == 'Regular activity customer']"
   ]
  },
  {
   "cell_type": "code",
   "execution_count": 14,
   "id": "2b53d31a",
   "metadata": {},
   "outputs": [],
   "source": [
    "# Export low_act to file \n",
    "\n",
    "df_low_act.to_pickle(os.path.join(path, '02 Data','Prepared Data', 'low_act_customers.pkl'))"
   ]
  },
  {
   "cell_type": "markdown",
   "id": "b154955c",
   "metadata": {},
   "source": [
    "## 05. Define a new variable: household type"
   ]
  },
  {
   "cell_type": "code",
   "execution_count": 16,
   "id": "e00e21aa",
   "metadata": {},
   "outputs": [
    {
     "name": "stderr",
     "output_type": "stream",
     "text": [
      "/var/folders/3y/d862clgs063359n86dbrcz7r0000gn/T/ipykernel_55611/4264595490.py:3: SettingWithCopyWarning: \n",
      "A value is trying to be set on a copy of a slice from a DataFrame.\n",
      "Try using .loc[row_indexer,col_indexer] = value instead\n",
      "\n",
      "See the caveats in the documentation: https://pandas.pydata.org/pandas-docs/stable/user_guide/indexing.html#returning-a-view-versus-a-copy\n",
      "  df_active.loc[df_active['num_of_dependants'] > 0, 'parent_loc'] = 'Parent/Guardian'\n"
     ]
    }
   ],
   "source": [
    "# Flag active customers as parent/guardians or no dependants to explore\n",
    "\n",
    "df_active.loc[df_active['num_of_dependants'] > 0, 'parent_loc'] = 'Parent/Guardian'"
   ]
  },
  {
   "cell_type": "code",
   "execution_count": 22,
   "id": "dc7feac1",
   "metadata": {},
   "outputs": [],
   "source": [
    "df_active.loc[df_active['num_of_dependants'] == 0, 'parent_loc'] = 'No Dependants'"
   ]
  },
  {
   "cell_type": "code",
   "execution_count": 23,
   "id": "e9556328",
   "metadata": {},
   "outputs": [
    {
     "data": {
      "text/plain": [
       "Parent/Guardian    23224883\n",
       "No Dependants       7739681\n",
       "Name: parent_loc, dtype: int64"
      ]
     },
     "execution_count": 23,
     "metadata": {},
     "output_type": "execute_result"
    }
   ],
   "source": [
    "# Check outputs\n",
    "\n",
    "df_active['parent_loc'].value_counts()"
   ]
  },
  {
   "cell_type": "code",
   "execution_count": 24,
   "id": "1f233631",
   "metadata": {},
   "outputs": [],
   "source": [
    "# Crosscheck parent_loc with marital_satus\n",
    "\n",
    "crosstab = pd.crosstab(df_active['parent_loc'], df_active['marital_status'], dropna = False)"
   ]
  },
  {
   "cell_type": "code",
   "execution_count": 25,
   "id": "a1842c60",
   "metadata": {},
   "outputs": [
    {
     "data": {
      "text/html": [
       "<div>\n",
       "<style scoped>\n",
       "    .dataframe tbody tr th:only-of-type {\n",
       "        vertical-align: middle;\n",
       "    }\n",
       "\n",
       "    .dataframe tbody tr th {\n",
       "        vertical-align: top;\n",
       "    }\n",
       "\n",
       "    .dataframe thead th {\n",
       "        text-align: right;\n",
       "    }\n",
       "</style>\n",
       "<table border=\"1\" class=\"dataframe\">\n",
       "  <thead>\n",
       "    <tr style=\"text-align: right;\">\n",
       "      <th>marital_status</th>\n",
       "      <th>divorced/widowed</th>\n",
       "      <th>living with parents and siblings</th>\n",
       "      <th>married</th>\n",
       "      <th>single</th>\n",
       "    </tr>\n",
       "    <tr>\n",
       "      <th>parent_loc</th>\n",
       "      <th></th>\n",
       "      <th></th>\n",
       "      <th></th>\n",
       "      <th></th>\n",
       "    </tr>\n",
       "  </thead>\n",
       "  <tbody>\n",
       "    <tr>\n",
       "      <th>No Dependants</th>\n",
       "      <td>2645271</td>\n",
       "      <td>0</td>\n",
       "      <td>0</td>\n",
       "      <td>5094410</td>\n",
       "    </tr>\n",
       "    <tr>\n",
       "      <th>Parent/Guardian</th>\n",
       "      <td>0</td>\n",
       "      <td>1481172</td>\n",
       "      <td>21743711</td>\n",
       "      <td>0</td>\n",
       "    </tr>\n",
       "  </tbody>\n",
       "</table>\n",
       "</div>"
      ],
      "text/plain": [
       "marital_status   divorced/widowed  living with parents and siblings   married  \\\n",
       "parent_loc                                                                      \n",
       "No Dependants             2645271                                 0         0   \n",
       "Parent/Guardian                 0                           1481172  21743711   \n",
       "\n",
       "marital_status    single  \n",
       "parent_loc                \n",
       "No Dependants    5094410  \n",
       "Parent/Guardian        0  "
      ]
     },
     "execution_count": 25,
     "metadata": {},
     "output_type": "execute_result"
    }
   ],
   "source": [
    "crosstab"
   ]
  },
  {
   "cell_type": "code",
   "execution_count": 29,
   "id": "625c004a",
   "metadata": {},
   "outputs": [],
   "source": [
    "crosstab.to_clipboard()"
   ]
  },
  {
   "cell_type": "code",
   "execution_count": 15,
   "id": "fcc9c4dd",
   "metadata": {},
   "outputs": [
    {
     "name": "stderr",
     "output_type": "stream",
     "text": [
      "/var/folders/3y/d862clgs063359n86dbrcz7r0000gn/T/ipykernel_58737/3780604555.py:3: SettingWithCopyWarning: \n",
      "A value is trying to be set on a copy of a slice from a DataFrame.\n",
      "Try using .loc[row_indexer,col_indexer] = value instead\n",
      "\n",
      "See the caveats in the documentation: https://pandas.pydata.org/pandas-docs/stable/user_guide/indexing.html#returning-a-view-versus-a-copy\n",
      "  df_active.loc[df_active['num_of_dependants'] == 0, 'household'] = 'single adult'\n"
     ]
    }
   ],
   "source": [
    "# Create a column labeling customers' households as single, nuclear, or multigenerational\n",
    "\n",
    "df_active.loc[df_active['num_of_dependants'] == 0, 'household'] = 'single adult'"
   ]
  },
  {
   "cell_type": "code",
   "execution_count": 16,
   "id": "45ae4a16",
   "metadata": {},
   "outputs": [],
   "source": [
    "df_active.loc[df_active['marital_status'] == 'married', 'household'] = 'nuclear fam'"
   ]
  },
  {
   "cell_type": "code",
   "execution_count": 17,
   "id": "f62a51f4",
   "metadata": {},
   "outputs": [],
   "source": [
    "df_active.loc[df_active['marital_status'] == 'living with parents and siblings', 'household'] = 'multi-gen fam'"
   ]
  },
  {
   "cell_type": "code",
   "execution_count": 18,
   "id": "977a526b",
   "metadata": {},
   "outputs": [
    {
     "data": {
      "text/plain": [
       "nuclear fam      21743711\n",
       "single adult      7739681\n",
       "multi-gen fam     1481172\n",
       "Name: household, dtype: int64"
      ]
     },
     "execution_count": 18,
     "metadata": {},
     "output_type": "execute_result"
    }
   ],
   "source": [
    "# Check outputs \n",
    "\n",
    "df_active['household'].value_counts()"
   ]
  },
  {
   "cell_type": "code",
   "execution_count": 40,
   "id": "b091e074",
   "metadata": {},
   "outputs": [
    {
     "data": {
      "image/png": "[encoded data removed]",
      "text/plain": [
       "<Figure size 432x288 with 1 Axes>"
      ]
     },
     "metadata": {
      "needs_background": "light"
     },
     "output_type": "display_data"
    }
   ],
   "source": [
    "# Create a bar graph of household types\n",
    "\n",
    "bar = df_active['household'].value_counts().plot.bar()"
   ]
  },
  {
   "cell_type": "code",
   "execution_count": 41,
   "id": "3cbaaacb",
   "metadata": {},
   "outputs": [],
   "source": [
    "# Save visualization to folder\n",
    "\n",
    "bar.figure.savefig(os.path.join(path, '04 Analysis','Visualizations', 'bar_household_type.png'))"
   ]
  },
  {
   "cell_type": "markdown",
   "id": "ac6cf95f",
   "metadata": {},
   "source": [
    "##   06. Explore spending habits of household types"
   ]
  },
  {
   "cell_type": "code",
   "execution_count": 79,
   "id": "3ba91017",
   "metadata": {},
   "outputs": [
    {
     "data": {
      "text/html": [
       "<div>\n",
       "<style scoped>\n",
       "    .dataframe tbody tr th:only-of-type {\n",
       "        vertical-align: middle;\n",
       "    }\n",
       "\n",
       "    .dataframe tbody tr th {\n",
       "        vertical-align: top;\n",
       "    }\n",
       "\n",
       "    .dataframe thead tr th {\n",
       "        text-align: left;\n",
       "    }\n",
       "\n",
       "    .dataframe thead tr:last-of-type th {\n",
       "        text-align: right;\n",
       "    }\n",
       "</style>\n",
       "<table border=\"1\" class=\"dataframe\">\n",
       "  <thead>\n",
       "    <tr>\n",
       "      <th></th>\n",
       "      <th colspan=\"3\" halign=\"left\">max_order</th>\n",
       "    </tr>\n",
       "    <tr>\n",
       "      <th></th>\n",
       "      <th>mean</th>\n",
       "      <th>min</th>\n",
       "      <th>max</th>\n",
       "    </tr>\n",
       "    <tr>\n",
       "      <th>household</th>\n",
       "      <th></th>\n",
       "      <th></th>\n",
       "      <th></th>\n",
       "    </tr>\n",
       "  </thead>\n",
       "  <tbody>\n",
       "    <tr>\n",
       "      <th>multi-gen fam</th>\n",
       "      <td>34.853070</td>\n",
       "      <td>5</td>\n",
       "      <td>99</td>\n",
       "    </tr>\n",
       "    <tr>\n",
       "      <th>nuclear fam</th>\n",
       "      <td>34.307533</td>\n",
       "      <td>5</td>\n",
       "      <td>99</td>\n",
       "    </tr>\n",
       "    <tr>\n",
       "      <th>single adult</th>\n",
       "      <td>34.675839</td>\n",
       "      <td>5</td>\n",
       "      <td>99</td>\n",
       "    </tr>\n",
       "  </tbody>\n",
       "</table>\n",
       "</div>"
      ],
      "text/plain": [
       "               max_order        \n",
       "                    mean min max\n",
       "household                       \n",
       "multi-gen fam  34.853070   5  99\n",
       "nuclear fam    34.307533   5  99\n",
       "single adult   34.675839   5  99"
      ]
     },
     "execution_count": 79,
     "metadata": {},
     "output_type": "execute_result"
    }
   ],
   "source": [
    "# Find the maximum, minimum, and average number of a user's total orders for each household type\n",
    "\n",
    "df_active.groupby('household').agg({'max_order': ['mean', 'min', 'max']})"
   ]
  },
  {
   "cell_type": "code",
   "execution_count": 80,
   "id": "85187471",
   "metadata": {},
   "outputs": [
    {
     "data": {
      "text/html": [
       "<div>\n",
       "<style scoped>\n",
       "    .dataframe tbody tr th:only-of-type {\n",
       "        vertical-align: middle;\n",
       "    }\n",
       "\n",
       "    .dataframe tbody tr th {\n",
       "        vertical-align: top;\n",
       "    }\n",
       "\n",
       "    .dataframe thead tr th {\n",
       "        text-align: left;\n",
       "    }\n",
       "\n",
       "    .dataframe thead tr:last-of-type th {\n",
       "        text-align: right;\n",
       "    }\n",
       "</style>\n",
       "<table border=\"1\" class=\"dataframe\">\n",
       "  <thead>\n",
       "    <tr>\n",
       "      <th></th>\n",
       "      <th colspan=\"3\" halign=\"left\">avg_price</th>\n",
       "    </tr>\n",
       "    <tr>\n",
       "      <th></th>\n",
       "      <th>mean</th>\n",
       "      <th>min</th>\n",
       "      <th>max</th>\n",
       "    </tr>\n",
       "    <tr>\n",
       "      <th>household</th>\n",
       "      <th></th>\n",
       "      <th></th>\n",
       "      <th></th>\n",
       "    </tr>\n",
       "  </thead>\n",
       "  <tbody>\n",
       "    <tr>\n",
       "      <th>multi-gen fam</th>\n",
       "      <td>7.800588</td>\n",
       "      <td>2.133333</td>\n",
       "      <td>14.900000</td>\n",
       "    </tr>\n",
       "    <tr>\n",
       "      <th>nuclear fam</th>\n",
       "      <td>7.790281</td>\n",
       "      <td>1.000000</td>\n",
       "      <td>20.114286</td>\n",
       "    </tr>\n",
       "    <tr>\n",
       "      <th>single adult</th>\n",
       "      <td>7.789552</td>\n",
       "      <td>1.000000</td>\n",
       "      <td>16.931250</td>\n",
       "    </tr>\n",
       "  </tbody>\n",
       "</table>\n",
       "</div>"
      ],
      "text/plain": [
       "              avg_price                     \n",
       "                   mean       min        max\n",
       "household                                   \n",
       "multi-gen fam  7.800588  2.133333  14.900000\n",
       "nuclear fam    7.790281  1.000000  20.114286\n",
       "single adult   7.789552  1.000000  16.931250"
      ]
     },
     "execution_count": 80,
     "metadata": {},
     "output_type": "execute_result"
    }
   ],
   "source": [
    "# Find the maximum, minimum, and mean average price of products purchaced for each household type\n",
    "\n",
    "df_active.groupby('household').agg({'avg_price': ['mean', 'min', 'max']})"
   ]
  },
  {
   "cell_type": "code",
   "execution_count": 73,
   "id": "85ca0510",
   "metadata": {},
   "outputs": [],
   "source": [
    "# Crosscheck household with spending_flag\n",
    "\n",
    "crosstab = pd.crosstab(df_active['household'], df_active['spending_flag'], dropna = False)"
   ]
  },
  {
   "cell_type": "code",
   "execution_count": 74,
   "id": "edd5f1b7",
   "metadata": {},
   "outputs": [
    {
     "data": {
      "text/html": [
       "<div>\n",
       "<style scoped>\n",
       "    .dataframe tbody tr th:only-of-type {\n",
       "        vertical-align: middle;\n",
       "    }\n",
       "\n",
       "    .dataframe tbody tr th {\n",
       "        vertical-align: top;\n",
       "    }\n",
       "\n",
       "    .dataframe thead th {\n",
       "        text-align: right;\n",
       "    }\n",
       "</style>\n",
       "<table border=\"1\" class=\"dataframe\">\n",
       "  <thead>\n",
       "    <tr style=\"text-align: right;\">\n",
       "      <th>spending_flag</th>\n",
       "      <th>High Spender</th>\n",
       "      <th>Low Spender</th>\n",
       "    </tr>\n",
       "    <tr>\n",
       "      <th>household</th>\n",
       "      <th></th>\n",
       "      <th></th>\n",
       "    </tr>\n",
       "  </thead>\n",
       "  <tbody>\n",
       "    <tr>\n",
       "      <th>multi-gen fam</th>\n",
       "      <td>27926</td>\n",
       "      <td>1453246</td>\n",
       "    </tr>\n",
       "    <tr>\n",
       "      <th>nuclear fam</th>\n",
       "      <td>429457</td>\n",
       "      <td>21314254</td>\n",
       "    </tr>\n",
       "    <tr>\n",
       "      <th>single adult</th>\n",
       "      <td>146042</td>\n",
       "      <td>7593639</td>\n",
       "    </tr>\n",
       "  </tbody>\n",
       "</table>\n",
       "</div>"
      ],
      "text/plain": [
       "spending_flag  High Spender  Low Spender\n",
       "household                               \n",
       "multi-gen fam         27926      1453246\n",
       "nuclear fam          429457     21314254\n",
       "single adult         146042      7593639"
      ]
     },
     "execution_count": 74,
     "metadata": {},
     "output_type": "execute_result"
    }
   ],
   "source": [
    "crosstab"
   ]
  },
  {
   "cell_type": "code",
   "execution_count": 75,
   "id": "810988bc",
   "metadata": {},
   "outputs": [],
   "source": [
    "crosstab.to_clipboard()"
   ]
  },
  {
   "cell_type": "markdown",
   "id": "959b64fc",
   "metadata": {},
   "source": [
    "## 07. Explore variations in spending habits of customers by region and product department"
   ]
  },
  {
   "cell_type": "code",
   "execution_count": 76,
   "id": "939eb947",
   "metadata": {},
   "outputs": [],
   "source": [
    "# Crosscheck household with region\n",
    "\n",
    "crosstab = pd.crosstab(df_active['household'], df_active['region'], dropna = False)"
   ]
  },
  {
   "cell_type": "code",
   "execution_count": 77,
   "id": "d7e7fbef",
   "metadata": {},
   "outputs": [
    {
     "data": {
      "text/html": [
       "<div>\n",
       "<style scoped>\n",
       "    .dataframe tbody tr th:only-of-type {\n",
       "        vertical-align: middle;\n",
       "    }\n",
       "\n",
       "    .dataframe tbody tr th {\n",
       "        vertical-align: top;\n",
       "    }\n",
       "\n",
       "    .dataframe thead th {\n",
       "        text-align: right;\n",
       "    }\n",
       "</style>\n",
       "<table border=\"1\" class=\"dataframe\">\n",
       "  <thead>\n",
       "    <tr style=\"text-align: right;\">\n",
       "      <th>region</th>\n",
       "      <th>Midwest</th>\n",
       "      <th>Northeast</th>\n",
       "      <th>South</th>\n",
       "      <th>Southwest</th>\n",
       "      <th>West</th>\n",
       "    </tr>\n",
       "    <tr>\n",
       "      <th>household</th>\n",
       "      <th></th>\n",
       "      <th></th>\n",
       "      <th></th>\n",
       "      <th></th>\n",
       "      <th></th>\n",
       "    </tr>\n",
       "  </thead>\n",
       "  <tbody>\n",
       "    <tr>\n",
       "      <th>multi-gen fam</th>\n",
       "      <td>351435</td>\n",
       "      <td>256430</td>\n",
       "      <td>450300</td>\n",
       "      <td>107179</td>\n",
       "      <td>315828</td>\n",
       "    </tr>\n",
       "    <tr>\n",
       "      <th>nuclear fam</th>\n",
       "      <td>5087262</td>\n",
       "      <td>3853773</td>\n",
       "      <td>6368894</td>\n",
       "      <td>1716872</td>\n",
       "      <td>4716910</td>\n",
       "    </tr>\n",
       "    <tr>\n",
       "      <th>single adult</th>\n",
       "      <td>1822816</td>\n",
       "      <td>1354482</td>\n",
       "      <td>2254717</td>\n",
       "      <td>664553</td>\n",
       "      <td>1643113</td>\n",
       "    </tr>\n",
       "  </tbody>\n",
       "</table>\n",
       "</div>"
      ],
      "text/plain": [
       "region         Midwest  Northeast    South  Southwest     West\n",
       "household                                                     \n",
       "multi-gen fam   351435     256430   450300     107179   315828\n",
       "nuclear fam    5087262    3853773  6368894    1716872  4716910\n",
       "single adult   1822816    1354482  2254717     664553  1643113"
      ]
     },
     "execution_count": 77,
     "metadata": {},
     "output_type": "execute_result"
    }
   ],
   "source": [
    "crosstab"
   ]
  },
  {
   "cell_type": "code",
   "execution_count": 78,
   "id": "50f65e74",
   "metadata": {},
   "outputs": [],
   "source": [
    "crosstab.to_clipboard()"
   ]
  },
  {
   "cell_type": "markdown",
   "id": "8d42446f",
   "metadata": {},
   "source": [
    "Household types are spread fairly evenly across regions"
   ]
  },
  {
   "cell_type": "code",
   "execution_count": 10,
   "id": "a0dfa270",
   "metadata": {},
   "outputs": [],
   "source": [
    "# Create big and small (70/30) random subsets to use in line charts\n",
    "\n",
    "np.random.seed(4)\n",
    "dev = np.random.rand(len(df_active)) <= 0.7"
   ]
  },
  {
   "cell_type": "code",
   "execution_count": 11,
   "id": "6ac8c140",
   "metadata": {},
   "outputs": [],
   "source": [
    "big = df_active[dev]\n",
    "small = df_active[~dev]"
   ]
  },
  {
   "cell_type": "code",
   "execution_count": 12,
   "id": "726adb54",
   "metadata": {},
   "outputs": [
    {
     "data": {
      "text/plain": [
       "30964564"
      ]
     },
     "execution_count": 12,
     "metadata": {},
     "output_type": "execute_result"
    }
   ],
   "source": [
    "# Check lengths (big + small should = 30964564)\n",
    "\n",
    "len(big) + len (small)"
   ]
  },
  {
   "cell_type": "code",
   "execution_count": 22,
   "id": "d82f03d7",
   "metadata": {},
   "outputs": [],
   "source": [
    "# Define a new dataframe from small with limited columns \n",
    "\n",
    "df_act2 = small[['spending_flag', 'avg_price','household', 'region']]"
   ]
  },
  {
   "cell_type": "code",
   "execution_count": 33,
   "id": "97f0f94a",
   "metadata": {},
   "outputs": [
    {
     "data": {
      "text/html": [
       "<div>\n",
       "<style scoped>\n",
       "    .dataframe tbody tr th:only-of-type {\n",
       "        vertical-align: middle;\n",
       "    }\n",
       "\n",
       "    .dataframe tbody tr th {\n",
       "        vertical-align: top;\n",
       "    }\n",
       "\n",
       "    .dataframe thead th {\n",
       "        text-align: right;\n",
       "    }\n",
       "</style>\n",
       "<table border=\"1\" class=\"dataframe\">\n",
       "  <thead>\n",
       "    <tr style=\"text-align: right;\">\n",
       "      <th></th>\n",
       "      <th>spending_flag</th>\n",
       "      <th>avg_price</th>\n",
       "      <th>household</th>\n",
       "      <th>region</th>\n",
       "    </tr>\n",
       "  </thead>\n",
       "  <tbody>\n",
       "    <tr>\n",
       "      <th>0</th>\n",
       "      <td>Low Spender</td>\n",
       "      <td>6.367797</td>\n",
       "      <td>nuclear fam</td>\n",
       "      <td>South</td>\n",
       "    </tr>\n",
       "    <tr>\n",
       "      <th>2</th>\n",
       "      <td>Low Spender</td>\n",
       "      <td>6.367797</td>\n",
       "      <td>nuclear fam</td>\n",
       "      <td>South</td>\n",
       "    </tr>\n",
       "    <tr>\n",
       "      <th>3</th>\n",
       "      <td>Low Spender</td>\n",
       "      <td>6.367797</td>\n",
       "      <td>nuclear fam</td>\n",
       "      <td>South</td>\n",
       "    </tr>\n",
       "    <tr>\n",
       "      <th>6</th>\n",
       "      <td>Low Spender</td>\n",
       "      <td>6.367797</td>\n",
       "      <td>nuclear fam</td>\n",
       "      <td>South</td>\n",
       "    </tr>\n",
       "    <tr>\n",
       "      <th>10</th>\n",
       "      <td>Low Spender</td>\n",
       "      <td>6.367797</td>\n",
       "      <td>nuclear fam</td>\n",
       "      <td>South</td>\n",
       "    </tr>\n",
       "  </tbody>\n",
       "</table>\n",
       "</div>"
      ],
      "text/plain": [
       "   spending_flag  avg_price    household region\n",
       "0    Low Spender   6.367797  nuclear fam  South\n",
       "2    Low Spender   6.367797  nuclear fam  South\n",
       "3    Low Spender   6.367797  nuclear fam  South\n",
       "6    Low Spender   6.367797  nuclear fam  South\n",
       "10   Low Spender   6.367797  nuclear fam  South"
      ]
     },
     "execution_count": 33,
     "metadata": {},
     "output_type": "execute_result"
    }
   ],
   "source": [
    "df_act2.head()"
   ]
  },
  {
   "cell_type": "code",
   "execution_count": 35,
   "id": "86ea8bbf",
   "metadata": {},
   "outputs": [
    {
     "data": {
      "image/png": "[encoded data removed]",
      "text/plain": [
       "<Figure size 432x288 with 1 Axes>"
      ]
     },
     "metadata": {
      "needs_background": "light"
     },
     "output_type": "display_data"
    }
   ],
   "source": [
    "# Create a line plot mapping region against avg price of items purchased\n",
    "\n",
    "line = sns.lineplot(data = df_act2, x = 'region', y = 'avg_price')"
   ]
  },
  {
   "cell_type": "code",
   "execution_count": 23,
   "id": "a3914068",
   "metadata": {},
   "outputs": [
    {
     "data": {
      "image/png": "[encoded data removed]",
      "text/plain": [
       "<Figure size 432x288 with 1 Axes>"
      ]
     },
     "metadata": {
      "needs_background": "light"
     },
     "output_type": "display_data"
    }
   ],
   "source": [
    "# This is surprising, maybe there's an outlier. Create a scatter plot mapping region against avg price of items purchased\n",
    "\n",
    "scatter_region = sns.scatterplot(x = 'region', y = 'avg_price',data = df_act2)"
   ]
  },
  {
   "cell_type": "code",
   "execution_count": 21,
   "id": "8710cd8d",
   "metadata": {},
   "outputs": [
    {
     "data": {
      "image/png": "[encoded data removed]",
      "text/plain": [
       "<Figure size 432x288 with 1 Axes>"
      ]
     },
     "metadata": {
      "needs_background": "light"
     },
     "output_type": "display_data"
    }
   ],
   "source": [
    "# Compare to big df\n",
    "\n",
    "scatter_region = sns.scatterplot(x = 'region', y = 'avg_price',data = big)"
   ]
  },
  {
   "cell_type": "markdown",
   "id": "1a6b5462",
   "metadata": {},
   "source": [
    "The big and small random samples look similar enough that I am willing to trust that the higher avg prices in the South and Midwest regions are genuinely reflective of the data"
   ]
  },
  {
   "cell_type": "code",
   "execution_count": 39,
   "id": "c99b8202",
   "metadata": {},
   "outputs": [],
   "source": [
    "# Save visualizations to folder\n",
    "\n",
    "line.figure.savefig(os.path.join(path, '04 Analysis','Visualizations', 'line_region_price.png'))\n",
    "\n",
    "scatter_region.figure.savefig(os.path.join(path, '04 Analysis','Visualizations', 'scatter_region_price.png'))"
   ]
  },
  {
   "cell_type": "code",
   "execution_count": 40,
   "id": "d468f883",
   "metadata": {},
   "outputs": [
    {
     "data": {
      "image/png": "[encoded data removed]",
      "text/plain": [
       "<Figure size 432x288 with 1 Axes>"
      ]
     },
     "metadata": {
      "needs_background": "light"
     },
     "output_type": "display_data"
    }
   ],
   "source": [
    "# Create a scatter plot mapping household type against avg price of items purchased\n",
    "\n",
    "scatter = sns.scatterplot(x = 'household', y = 'avg_price',data = df_act2)"
   ]
  },
  {
   "cell_type": "code",
   "execution_count": 41,
   "id": "0f92bcbf",
   "metadata": {},
   "outputs": [],
   "source": [
    "# Save visualization to folder\n",
    "\n",
    "scatter.figure.savefig(os.path.join(path, '04 Analysis','Visualizations', 'scatter_household_price.png'))"
   ]
  },
  {
   "cell_type": "markdown",
   "id": "99ff9197",
   "metadata": {},
   "source": [
    "## 08. Re-import df_active to answer key questions\n"
   ]
  },
  {
   "cell_type": "code",
   "execution_count": 4,
   "id": "509dbac5",
   "metadata": {},
   "outputs": [],
   "source": [
    "# Re-import df_active (adding visualizations later to answer key questions)\n",
    "\n",
    "df_active = pd.read_pickle(os.path.join(path, '02 Data', 'Prepared Data','active_customers.pkl'))"
   ]
  },
  {
   "cell_type": "code",
   "execution_count": 5,
   "id": "a7efbfd6",
   "metadata": {},
   "outputs": [
    {
     "data": {
      "image/png": "[encoded data removed]",
      "text/plain": [
       "<Figure size 432x288 with 1 Axes>"
      ]
     },
     "metadata": {
      "needs_background": "light"
     },
     "output_type": "display_data"
    }
   ],
   "source": [
    "# Are there certain types of products which are more popular than others?\n",
    "\n",
    "bar = df_active['department_id'].value_counts().plot.bar()"
   ]
  },
  {
   "cell_type": "code",
   "execution_count": 9,
   "id": "41b73081",
   "metadata": {},
   "outputs": [],
   "source": [
    "# Save visualization to folder\n",
    "\n",
    "bar.figure.savefig(os.path.join(path, '04 Analysis','Visualizations', 'bar_departments.png'))"
   ]
  },
  {
   "cell_type": "code",
   "execution_count": 7,
   "id": "1363741c",
   "metadata": {},
   "outputs": [],
   "source": [
    "# Import dapartments wrangled\n",
    "\n",
    "\n",
    "df_deps = pd.read_csv(os.path.join(path, '02 Data', 'Prepared Data','departments_wrangled.csv'))"
   ]
  },
  {
   "cell_type": "code",
   "execution_count": 8,
   "id": "e09c0fa6",
   "metadata": {},
   "outputs": [
    {
     "data": {
      "text/html": [
       "<div>\n",
       "<style scoped>\n",
       "    .dataframe tbody tr th:only-of-type {\n",
       "        vertical-align: middle;\n",
       "    }\n",
       "\n",
       "    .dataframe tbody tr th {\n",
       "        vertical-align: top;\n",
       "    }\n",
       "\n",
       "    .dataframe thead th {\n",
       "        text-align: right;\n",
       "    }\n",
       "</style>\n",
       "<table border=\"1\" class=\"dataframe\">\n",
       "  <thead>\n",
       "    <tr style=\"text-align: right;\">\n",
       "      <th></th>\n",
       "      <th>Unnamed: 0</th>\n",
       "      <th>department</th>\n",
       "    </tr>\n",
       "  </thead>\n",
       "  <tbody>\n",
       "    <tr>\n",
       "      <th>0</th>\n",
       "      <td>1</td>\n",
       "      <td>frozen</td>\n",
       "    </tr>\n",
       "    <tr>\n",
       "      <th>1</th>\n",
       "      <td>2</td>\n",
       "      <td>other</td>\n",
       "    </tr>\n",
       "    <tr>\n",
       "      <th>2</th>\n",
       "      <td>3</td>\n",
       "      <td>bakery</td>\n",
       "    </tr>\n",
       "    <tr>\n",
       "      <th>3</th>\n",
       "      <td>4</td>\n",
       "      <td>produce</td>\n",
       "    </tr>\n",
       "    <tr>\n",
       "      <th>4</th>\n",
       "      <td>5</td>\n",
       "      <td>alcohol</td>\n",
       "    </tr>\n",
       "    <tr>\n",
       "      <th>5</th>\n",
       "      <td>6</td>\n",
       "      <td>international</td>\n",
       "    </tr>\n",
       "    <tr>\n",
       "      <th>6</th>\n",
       "      <td>7</td>\n",
       "      <td>beverages</td>\n",
       "    </tr>\n",
       "    <tr>\n",
       "      <th>7</th>\n",
       "      <td>8</td>\n",
       "      <td>pets</td>\n",
       "    </tr>\n",
       "    <tr>\n",
       "      <th>8</th>\n",
       "      <td>9</td>\n",
       "      <td>dry goods pasta</td>\n",
       "    </tr>\n",
       "    <tr>\n",
       "      <th>9</th>\n",
       "      <td>10</td>\n",
       "      <td>bulk</td>\n",
       "    </tr>\n",
       "    <tr>\n",
       "      <th>10</th>\n",
       "      <td>11</td>\n",
       "      <td>personal care</td>\n",
       "    </tr>\n",
       "    <tr>\n",
       "      <th>11</th>\n",
       "      <td>12</td>\n",
       "      <td>meat seafood</td>\n",
       "    </tr>\n",
       "    <tr>\n",
       "      <th>12</th>\n",
       "      <td>13</td>\n",
       "      <td>pantry</td>\n",
       "    </tr>\n",
       "    <tr>\n",
       "      <th>13</th>\n",
       "      <td>14</td>\n",
       "      <td>breakfast</td>\n",
       "    </tr>\n",
       "    <tr>\n",
       "      <th>14</th>\n",
       "      <td>15</td>\n",
       "      <td>canned goods</td>\n",
       "    </tr>\n",
       "    <tr>\n",
       "      <th>15</th>\n",
       "      <td>16</td>\n",
       "      <td>dairy eggs</td>\n",
       "    </tr>\n",
       "    <tr>\n",
       "      <th>16</th>\n",
       "      <td>17</td>\n",
       "      <td>household</td>\n",
       "    </tr>\n",
       "    <tr>\n",
       "      <th>17</th>\n",
       "      <td>18</td>\n",
       "      <td>babies</td>\n",
       "    </tr>\n",
       "    <tr>\n",
       "      <th>18</th>\n",
       "      <td>19</td>\n",
       "      <td>snacks</td>\n",
       "    </tr>\n",
       "    <tr>\n",
       "      <th>19</th>\n",
       "      <td>20</td>\n",
       "      <td>deli</td>\n",
       "    </tr>\n",
       "    <tr>\n",
       "      <th>20</th>\n",
       "      <td>21</td>\n",
       "      <td>missing</td>\n",
       "    </tr>\n",
       "  </tbody>\n",
       "</table>\n",
       "</div>"
      ],
      "text/plain": [
       "    Unnamed: 0       department\n",
       "0            1           frozen\n",
       "1            2            other\n",
       "2            3           bakery\n",
       "3            4          produce\n",
       "4            5          alcohol\n",
       "5            6    international\n",
       "6            7        beverages\n",
       "7            8             pets\n",
       "8            9  dry goods pasta\n",
       "9           10             bulk\n",
       "10          11    personal care\n",
       "11          12     meat seafood\n",
       "12          13           pantry\n",
       "13          14        breakfast\n",
       "14          15     canned goods\n",
       "15          16       dairy eggs\n",
       "16          17        household\n",
       "17          18           babies\n",
       "18          19           snacks\n",
       "19          20             deli\n",
       "20          21          missing"
      ]
     },
     "execution_count": 8,
     "metadata": {},
     "output_type": "execute_result"
    }
   ],
   "source": [
    "df_deps"
   ]
  },
  {
   "cell_type": "code",
   "execution_count": 17,
   "id": "a84a0cd0",
   "metadata": {},
   "outputs": [
    {
     "data": {
      "image/png": "[encoded data removed]",
      "text/plain": [
       "<Figure size 432x288 with 1 Axes>"
      ]
     },
     "metadata": {
      "needs_background": "light"
     },
     "output_type": "display_data"
    }
   ],
   "source": [
    "# Are there differences in spending habits based on loyalty status?\n",
    "\n",
    "scatter_loaylty = sns.scatterplot(x = 'loyalty_flag', y = 'avg_price',data = small)"
   ]
  },
  {
   "cell_type": "code",
   "execution_count": 19,
   "id": "aa008d27",
   "metadata": {},
   "outputs": [],
   "source": [
    "# Save visualization to folder\n",
    "\n",
    "scatter_loaylty.figure.savefig(os.path.join(path, '04 Analysis','Visualizations', 'scatter_loyalty.png'))"
   ]
  },
  {
   "cell_type": "markdown",
   "id": "5e14ad54",
   "metadata": {},
   "source": [
    "## 08. Export final dataframe"
   ]
  },
  {
   "cell_type": "code",
   "execution_count": 44,
   "id": "c15f913b",
   "metadata": {},
   "outputs": [],
   "source": [
    "# Export final version of df_active \n",
    "\n",
    "df_active.to_pickle(os.path.join(path, '02 Data','Prepared Data', 'active_customers.pkl'))"
   ]
  },
  {
   "cell_type": "code",
   "execution_count": null,
   "id": "a4d90515",
   "metadata": {},
   "outputs": [],
   "source": []
  }
 ],
 "metadata": {
  "kernelspec": {
   "display_name": "Python 3 (ipykernel)",
   "language": "python",
   "name": "python3"
  },
  "language_info": {
   "codemirror_mode": {
    "name": "ipython",
    "version": 3
   },
   "file_extension": ".py",
   "mimetype": "text/x-python",
   "name": "python",
   "nbconvert_exporter": "python",
   "pygments_lexer": "ipython3",
   "version": "3.9.12"
  }
 },
 "nbformat": 4,
 "nbformat_minor": 5
}
