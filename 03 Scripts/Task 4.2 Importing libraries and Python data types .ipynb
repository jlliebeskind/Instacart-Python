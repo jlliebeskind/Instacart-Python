{
 "cells": [
  {
   "cell_type": "markdown",
   "id": "63629965",
   "metadata": {},
   "source": [
    "# 4.2 Importing Libraries and Python Data Types"
   ]
  },
  {
   "cell_type": "markdown",
   "id": "dee46ce3",
   "metadata": {},
   "source": [
    "### Contents\n",
    "    01. Importing Libraries\n",
    "    02. Working with data types"
   ]
  },
  {
   "cell_type": "markdown",
   "id": "260ca0a4",
   "metadata": {},
   "source": [
    "# 01. Importing libraries"
   ]
  },
  {
   "cell_type": "code",
   "execution_count": 1,
   "id": "1587fbdc",
   "metadata": {},
   "outputs": [],
   "source": [
    "# Import Libraries\n",
    "import pandas as pd\n",
    "import numpy as np\n",
    "import os"
   ]
  },
  {
   "cell_type": "markdown",
   "id": "ae71ff64",
   "metadata": {},
   "source": [
    "# 02. Working with data types"
   ]
  },
  {
   "cell_type": "code",
   "execution_count": 1,
   "id": "c0435162",
   "metadata": {},
   "outputs": [],
   "source": [
    "x = 33"
   ]
  },
  {
   "cell_type": "code",
   "execution_count": 2,
   "id": "6b91f821",
   "metadata": {},
   "outputs": [],
   "source": [
    "y = 33"
   ]
  },
  {
   "cell_type": "code",
   "execution_count": 3,
   "id": "7f38c384",
   "metadata": {},
   "outputs": [],
   "source": [
    "z = 34"
   ]
  },
  {
   "cell_type": "code",
   "execution_count": 4,
   "id": "43f355f7",
   "metadata": {},
   "outputs": [
    {
     "data": {
      "text/plain": [
       "100"
      ]
     },
     "execution_count": 4,
     "metadata": {},
     "output_type": "execute_result"
    }
   ],
   "source": [
    "x + y + z"
   ]
  },
  {
   "cell_type": "code",
   "execution_count": 5,
   "id": "274d61c8",
   "metadata": {},
   "outputs": [],
   "source": [
    "x = 150"
   ]
  },
  {
   "cell_type": "code",
   "execution_count": 6,
   "id": "206d3b74",
   "metadata": {},
   "outputs": [],
   "source": [
    "y = 50"
   ]
  },
  {
   "cell_type": "code",
   "execution_count": 7,
   "id": "4d53035d",
   "metadata": {},
   "outputs": [
    {
     "data": {
      "text/plain": [
       "100"
      ]
     },
     "execution_count": 7,
     "metadata": {},
     "output_type": "execute_result"
    }
   ],
   "source": [
    "x - y "
   ]
  },
  {
   "cell_type": "code",
   "execution_count": 14,
   "id": "94f9031b",
   "metadata": {},
   "outputs": [],
   "source": [
    "x = 65"
   ]
  },
  {
   "cell_type": "code",
   "execution_count": 15,
   "id": "854401a0",
   "metadata": {},
   "outputs": [],
   "source": [
    "y = 55"
   ]
  },
  {
   "cell_type": "code",
   "execution_count": 16,
   "id": "01f2080f",
   "metadata": {},
   "outputs": [],
   "source": [
    "z = 20"
   ]
  },
  {
   "cell_type": "code",
   "execution_count": 19,
   "id": "2ab134bc",
   "metadata": {},
   "outputs": [
    {
     "data": {
      "text/plain": [
       "100"
      ]
     },
     "execution_count": 19,
     "metadata": {},
     "output_type": "execute_result"
    }
   ],
   "source": [
    "x + y - z"
   ]
  },
  {
   "cell_type": "code",
   "execution_count": 20,
   "id": "e2bb4fd3",
   "metadata": {},
   "outputs": [],
   "source": [
    "a = 5.7"
   ]
  },
  {
   "cell_type": "code",
   "execution_count": 21,
   "id": "55da274c",
   "metadata": {},
   "outputs": [],
   "source": [
    "b = 6.8"
   ]
  },
  {
   "cell_type": "code",
   "execution_count": 22,
   "id": "3fea222d",
   "metadata": {},
   "outputs": [
    {
     "data": {
      "text/plain": [
       "1.1929824561403508"
      ]
     },
     "execution_count": 22,
     "metadata": {},
     "output_type": "execute_result"
    }
   ],
   "source": [
    "b / a"
   ]
  },
  {
   "cell_type": "code",
   "execution_count": 23,
   "id": "9697a472",
   "metadata": {},
   "outputs": [],
   "source": [
    "a = 'L'"
   ]
  },
  {
   "cell_type": "code",
   "execution_count": 24,
   "id": "647316df",
   "metadata": {},
   "outputs": [],
   "source": [
    "b = 'o'"
   ]
  },
  {
   "cell_type": "code",
   "execution_count": 25,
   "id": "314df06c",
   "metadata": {},
   "outputs": [],
   "source": [
    "c = 'u'"
   ]
  },
  {
   "cell_type": "code",
   "execution_count": 26,
   "id": "e1f45ddc",
   "metadata": {},
   "outputs": [],
   "source": [
    "d = 'i'"
   ]
  },
  {
   "cell_type": "code",
   "execution_count": 27,
   "id": "d83c8ccc",
   "metadata": {},
   "outputs": [],
   "source": [
    "e = 's'"
   ]
  },
  {
   "cell_type": "code",
   "execution_count": 28,
   "id": "0bbf6375",
   "metadata": {},
   "outputs": [],
   "source": [
    "f = 'e'"
   ]
  },
  {
   "cell_type": "code",
   "execution_count": 30,
   "id": "6b150742",
   "metadata": {},
   "outputs": [
    {
     "data": {
      "text/plain": [
       "'Louise'"
      ]
     },
     "execution_count": 30,
     "metadata": {},
     "output_type": "execute_result"
    }
   ],
   "source": [
    "a + b + c + d + e + f"
   ]
  },
  {
   "cell_type": "code",
   "execution_count": 36,
   "id": "28961b8f",
   "metadata": {},
   "outputs": [],
   "source": [
    "a = 'Hello! '"
   ]
  },
  {
   "cell_type": "code",
   "execution_count": 37,
   "id": "a6a2d744",
   "metadata": {},
   "outputs": [],
   "source": [
    "b = 'My name is '"
   ]
  },
  {
   "cell_type": "code",
   "execution_count": 38,
   "id": "0a8b6b0e",
   "metadata": {},
   "outputs": [],
   "source": [
    "c = 'Louise.'"
   ]
  },
  {
   "cell_type": "code",
   "execution_count": 39,
   "id": "45d537bf",
   "metadata": {},
   "outputs": [
    {
     "data": {
      "text/plain": [
       "'Hello! My name is Louise.'"
      ]
     },
     "execution_count": 39,
     "metadata": {},
     "output_type": "execute_result"
    }
   ],
   "source": [
    "a + b + c"
   ]
  },
  {
   "cell_type": "code",
   "execution_count": 40,
   "id": "98949c0e",
   "metadata": {},
   "outputs": [],
   "source": [
    "a = 'Python is '"
   ]
  },
  {
   "cell_type": "code",
   "execution_count": 41,
   "id": "8eeff0d3",
   "metadata": {},
   "outputs": [],
   "source": [
    "b = 'fun so far.'"
   ]
  },
  {
   "cell_type": "code",
   "execution_count": 42,
   "id": "5a649b34",
   "metadata": {},
   "outputs": [
    {
     "data": {
      "text/plain": [
       "'Python is fun so far.'"
      ]
     },
     "execution_count": 42,
     "metadata": {},
     "output_type": "execute_result"
    }
   ],
   "source": [
    "a + b"
   ]
  },
  {
   "cell_type": "code",
   "execution_count": null,
   "id": "c5e1280e",
   "metadata": {},
   "outputs": [],
   "source": []
  }
 ],
 "metadata": {
  "kernelspec": {
   "display_name": "Python 3 (ipykernel)",
   "language": "python",
   "name": "python3"
  },
  "language_info": {
   "codemirror_mode": {
    "name": "ipython",
    "version": 3
   },
   "file_extension": ".py",
   "mimetype": "text/x-python",
   "name": "python",
   "nbconvert_exporter": "python",
   "pygments_lexer": "ipython3",
   "version": "3.9.12"
  }
 },
 "nbformat": 4,
 "nbformat_minor": 5
}
