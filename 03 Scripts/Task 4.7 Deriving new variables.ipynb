{
 "cells": [
  {
   "cell_type": "markdown",
   "id": "7d174a82",
   "metadata": {},
   "source": [
    "# 4.7 Deriving New Variables"
   ]
  },
  {
   "cell_type": "markdown",
   "id": "b884b722",
   "metadata": {},
   "source": [
    "### Contents\n",
    "    01. Import data and libraries\n",
    "    02. If-statement with a user-defined function - price ranges\n",
    "    03. If-statement with the loc( ) function - price ranges again\n",
    "    04. If-statement with for-loops - busiest day\n",
    "    05. Task: busiest day\n",
    "    06. Task: busiest time of day"
   ]
  },
  {
   "cell_type": "markdown",
   "id": "e07f0d09",
   "metadata": {},
   "source": [
    "## 01. Import data and libraries"
   ]
  },
  {
   "cell_type": "code",
   "execution_count": 1,
   "id": "81de7c5e",
   "metadata": {},
   "outputs": [],
   "source": [
    "# Import libraries \n",
    "\n",
    "import pandas as pd\n",
    "import numpy as np\n",
    "import os"
   ]
  },
  {
   "cell_type": "code",
   "execution_count": 2,
   "id": "0dcbb743",
   "metadata": {},
   "outputs": [],
   "source": [
    "# Define path to data\n",
    "\n",
    "path = r'/Users/louise/Desktop/CF Coursework/Achievement 4 /Instacart Basket Analysis'"
   ]
  },
  {
   "cell_type": "code",
   "execution_count": 11,
   "id": "1c7b1f2f",
   "metadata": {},
   "outputs": [],
   "source": [
    "# Import merged data\n",
    "\n",
    "df_ords_prods_merged = pd.read_pickle(os.path.join(path, '02 Data', 'Prepared Data','orders_products_merged.pkl'))"
   ]
  },
  {
   "cell_type": "code",
   "execution_count": 28,
   "id": "ed734df9",
   "metadata": {},
   "outputs": [],
   "source": [
    "df_merged = df_ords_prods_merged"
   ]
  },
  {
   "cell_type": "markdown",
   "id": "7e424b67",
   "metadata": {},
   "source": [
    "## 02. If-statement with a user-defined function - price ranges"
   ]
  },
  {
   "cell_type": "code",
   "execution_count": 14,
   "id": "66974055",
   "metadata": {},
   "outputs": [],
   "source": [
    "# Create subset \n",
    "\n",
    "df = df_ords_prods_merged[:1000000]"
   ]
  },
  {
   "cell_type": "code",
   "execution_count": 17,
   "id": "0dfe2584",
   "metadata": {},
   "outputs": [
    {
     "data": {
      "text/plain": [
       "(1000000, 16)"
      ]
     },
     "execution_count": 17,
     "metadata": {},
     "output_type": "execute_result"
    }
   ],
   "source": [
    "df.shape"
   ]
  },
  {
   "cell_type": "code",
   "execution_count": 15,
   "id": "6e27feed",
   "metadata": {},
   "outputs": [],
   "source": [
    "# Write a function to categorize products into price ranges\n",
    "\n",
    "def price_label(row):\n",
    "\n",
    "  if row['prices'] <= 5:\n",
    "    return 'Low-range product'\n",
    "  elif (row['prices'] > 5) and (row['prices'] <= 15):\n",
    "    return 'Mid-range product'\n",
    "  elif row['prices'] > 15:\n",
    "    return 'High range'\n",
    "  else: return 'Not enough data'"
   ]
  },
  {
   "cell_type": "code",
   "execution_count": 16,
   "id": "3e2e4d3f",
   "metadata": {},
   "outputs": [
    {
     "name": "stderr",
     "output_type": "stream",
     "text": [
      "/var/folders/3y/d862clgs063359n86dbrcz7r0000gn/T/ipykernel_24791/3286415804.py:3: SettingWithCopyWarning: \n",
      "A value is trying to be set on a copy of a slice from a DataFrame.\n",
      "Try using .loc[row_indexer,col_indexer] = value instead\n",
      "\n",
      "See the caveats in the documentation: https://pandas.pydata.org/pandas-docs/stable/user_guide/indexing.html#returning-a-view-versus-a-copy\n",
      "  df['price_range'] = df.apply(price_label, axis=1)\n"
     ]
    }
   ],
   "source": [
    "# Apply the function to create a column in df defining price range\n",
    "\n",
    "df['price_range'] = df.apply(price_label, axis=1)"
   ]
  },
  {
   "cell_type": "code",
   "execution_count": 19,
   "id": "f2c0a257",
   "metadata": {},
   "outputs": [
    {
     "data": {
      "text/plain": [
       "Mid-range product    756450\n",
       "Low-range product    243550\n",
       "Name: price_range, dtype: int64"
      ]
     },
     "execution_count": 19,
     "metadata": {},
     "output_type": "execute_result"
    }
   ],
   "source": [
    "df['price_range'].value_counts(dropna = False)"
   ]
  },
  {
   "cell_type": "code",
   "execution_count": 20,
   "id": "38b1c1f7",
   "metadata": {},
   "outputs": [
    {
     "data": {
      "text/plain": [
       "14.8"
      ]
     },
     "execution_count": 20,
     "metadata": {},
     "output_type": "execute_result"
    }
   ],
   "source": [
    "# Check highest price in subset\n",
    "\n",
    "df['prices'].max()"
   ]
  },
  {
   "cell_type": "markdown",
   "id": "7c82f510",
   "metadata": {},
   "source": [
    "## 03. If-statement with the loc( ) function - price ranges again"
   ]
  },
  {
   "cell_type": "code",
   "execution_count": 34,
   "id": "02cdce9e",
   "metadata": {},
   "outputs": [],
   "source": [
    "# Define price ranges using loc() function instead\n",
    "\n",
    "df.loc[df['prices'] > 15, 'price_range_loc'] = 'High-range product'"
   ]
  },
  {
   "cell_type": "code",
   "execution_count": 22,
   "id": "b5631161",
   "metadata": {},
   "outputs": [],
   "source": [
    "df.loc[(df['prices'] <= 15) & (df['prices'] > 5), 'price_range_loc'] = 'Mid-range product' "
   ]
  },
  {
   "cell_type": "code",
   "execution_count": 23,
   "id": "abb9e5f1",
   "metadata": {},
   "outputs": [],
   "source": [
    "df.loc[df['prices'] <= 5, 'price_range_loc'] = 'Low-range product'"
   ]
  },
  {
   "cell_type": "code",
   "execution_count": 24,
   "id": "5da82fd5",
   "metadata": {},
   "outputs": [
    {
     "data": {
      "text/plain": [
       "Mid-range product    756450\n",
       "Low-range product    243550\n",
       "Name: price_range_loc, dtype: int64"
      ]
     },
     "execution_count": 24,
     "metadata": {},
     "output_type": "execute_result"
    }
   ],
   "source": [
    "df['price_range_loc'].value_counts(dropna = False)"
   ]
  },
  {
   "cell_type": "code",
   "execution_count": 29,
   "id": "4fc04874",
   "metadata": {},
   "outputs": [],
   "source": [
    "# Try on whole dataframe\n",
    "\n",
    "df_merged.loc[df_merged['prices'] > 15, 'price_range_loc'] = 'High-range product'"
   ]
  },
  {
   "cell_type": "code",
   "execution_count": 31,
   "id": "b8ac5dd2",
   "metadata": {},
   "outputs": [],
   "source": [
    "df_merged.loc[(df_merged['prices'] <= 15) & (df_merged['prices'] > 5), 'price_range_loc'] = 'Mid-range product' "
   ]
  },
  {
   "cell_type": "code",
   "execution_count": 32,
   "id": "266899e9",
   "metadata": {},
   "outputs": [],
   "source": [
    "df_merged.loc[df_merged['prices'] <= 5, 'price_range_loc'] = 'Low-range product'"
   ]
  },
  {
   "cell_type": "code",
   "execution_count": 33,
   "id": "c2338b7a",
   "metadata": {},
   "outputs": [
    {
     "data": {
      "text/plain": [
       "Mid-range product     21860860\n",
       "Low-range product     10126321\n",
       "High-range product      417678\n",
       "Name: price_range_loc, dtype: int64"
      ]
     },
     "execution_count": 33,
     "metadata": {},
     "output_type": "execute_result"
    }
   ],
   "source": [
    "df_merged['price_range_loc'].value_counts(dropna = False)"
   ]
  },
  {
   "cell_type": "markdown",
   "id": "b564ef1e",
   "metadata": {},
   "source": [
    "## 04. If-statement with for-loops - busiest day"
   ]
  },
  {
   "cell_type": "code",
   "execution_count": 38,
   "id": "c12dcf50",
   "metadata": {},
   "outputs": [
    {
     "data": {
      "text/plain": [
       "0    6204182\n",
       "1    5660230\n",
       "6    4496490\n",
       "2    4213830\n",
       "5    4205791\n",
       "3    3840534\n",
       "4    3783802\n",
       "Name: order_day_of_week, dtype: int64"
      ]
     },
     "execution_count": 38,
     "metadata": {},
     "output_type": "execute_result"
    }
   ],
   "source": [
    "# Check how many orders occur on each day of the week\n",
    "\n",
    "df_merged['order_day_of_week'].value_counts(dropna = False)"
   ]
  },
  {
   "cell_type": "code",
   "execution_count": 52,
   "id": "46429958",
   "metadata": {},
   "outputs": [],
   "source": [
    "# Label busiest, least busy, and regularly busy days in df_merged\n",
    "\n",
    "result = []\n",
    "\n",
    "for value in df_merged[\"order_day_of_week\"]:\n",
    "  if value == 0:\n",
    "    result.append(\"Busiest day\")\n",
    "  elif value == 4:\n",
    "    result.append(\"Least busy\")\n",
    "  else:\n",
    "    result.append(\"Regularly busy\")"
   ]
  },
  {
   "cell_type": "code",
   "execution_count": 54,
   "id": "1de76eb2",
   "metadata": {},
   "outputs": [],
   "source": [
    "# Add as column to df_merged\n",
    "\n",
    "df_merged['busiest_day'] = result"
   ]
  },
  {
   "cell_type": "code",
   "execution_count": 55,
   "id": "2fe14da4",
   "metadata": {},
   "outputs": [
    {
     "data": {
      "text/plain": [
       "Regularly busy    22416875\n",
       "Busiest day        6204182\n",
       "Least busy         3783802\n",
       "Name: busiest_day, dtype: int64"
      ]
     },
     "execution_count": 55,
     "metadata": {},
     "output_type": "execute_result"
    }
   ],
   "source": [
    "df_merged['busiest_day'].value_counts(dropna = False)"
   ]
  },
  {
   "cell_type": "markdown",
   "id": "9bea5015",
   "metadata": {},
   "source": [
    "## 05. Task- busiest days"
   ]
  },
  {
   "cell_type": "code",
   "execution_count": 65,
   "id": "210c25d4",
   "metadata": {},
   "outputs": [],
   "source": [
    "# Label the two busiest, two least busy, and three regularly busy days in df_merged\n",
    "\n",
    "result = []\n",
    "\n",
    "for value in df_merged[\"order_day_of_week\"]:\n",
    "  if value == 0 or value == 6:\n",
    "    result.append(\"Busiest days\")\n",
    "  elif value == 4 or value == 3:\n",
    "    result.append(\"Least busy days\")\n",
    "  else:\n",
    "    result.append(\"Regularly busy days\")"
   ]
  },
  {
   "cell_type": "code",
   "execution_count": 67,
   "id": "e3cf26f6",
   "metadata": {},
   "outputs": [],
   "source": [
    "# Add column busiest_days to df_merged\n",
    "\n",
    "df_merged['busiest_days'] = result"
   ]
  },
  {
   "cell_type": "code",
   "execution_count": 68,
   "id": "af921724",
   "metadata": {},
   "outputs": [
    {
     "data": {
      "text/plain": [
       "Regularly busy days    14079851\n",
       "Busiest days           10700672\n",
       "Least busy days         7624336\n",
       "Name: busiest_days, dtype: int64"
      ]
     },
     "execution_count": 68,
     "metadata": {},
     "output_type": "execute_result"
    }
   ],
   "source": [
    "df_merged['busiest_days'].value_counts(dropna = False)"
   ]
  },
  {
   "cell_type": "markdown",
   "id": "2051c3fe",
   "metadata": {},
   "source": [
    "Notes: These figures are about what I expected given the value counts of order_day_of_week. There are more 'regularly busy days' than 'busiest days' so this is the most common value."
   ]
  },
  {
   "cell_type": "markdown",
   "id": "b0391c7e",
   "metadata": {},
   "source": [
    "## 06. Task- busiest time of day"
   ]
  },
  {
   "cell_type": "code",
   "execution_count": 69,
   "id": "3969c753",
   "metadata": {},
   "outputs": [
    {
     "data": {
      "text/plain": [
       "Index(['order_id', 'user_id', 'observation_status', 'order_number',\n",
       "       'order_day_of_week', 'order_hour_of_day', 'days_since_prior_order',\n",
       "       'product_id', 'add_to_cart_order', 'reordered', 'product_name',\n",
       "       'aisle_id', 'department_id', 'prices', '_merge', 'price_range_loc',\n",
       "       'busiest_day', 'busiest_days'],\n",
       "      dtype='object')"
      ]
     },
     "execution_count": 69,
     "metadata": {},
     "output_type": "execute_result"
    }
   ],
   "source": [
    "# Find the busiest hours of the day\n",
    "\n",
    "df_merged.columns"
   ]
  },
  {
   "cell_type": "code",
   "execution_count": 71,
   "id": "d3b4e687",
   "metadata": {},
   "outputs": [
    {
     "data": {
      "text/plain": [
       "10    2761760\n",
       "11    2736140\n",
       "14    2689136\n",
       "15    2662144\n",
       "13    2660954\n",
       "12    2618532\n",
       "16    2535202\n",
       "9     2454203\n",
       "17    2087654\n",
       "8     1718118\n",
       "18    1636502\n",
       "19    1258305\n",
       "20     976156\n",
       "7      891054\n",
       "21     795637\n",
       "22     634225\n",
       "23     402316\n",
       "6      290493\n",
       "0      218769\n",
       "1      115700\n",
       "5       87961\n",
       "2       69375\n",
       "4       53242\n",
       "3       51281\n",
       "Name: order_hour_of_day, dtype: int64"
      ]
     },
     "execution_count": 71,
     "metadata": {},
     "output_type": "execute_result"
    }
   ],
   "source": [
    "df_merged['order_hour_of_day'].value_counts()"
   ]
  },
  {
   "cell_type": "code",
   "execution_count": 82,
   "id": "84e82012",
   "metadata": {},
   "outputs": [],
   "source": [
    "# Label the 8 busiest hours, the eight least busy hours, and the eight hours in the middle using for-loops\n",
    "\n",
    "result = []\n",
    "\n",
    "for value in df_merged[\"order_hour_of_day\"]:\n",
    "  if value >= 9 and value <= 16:\n",
    "    result.append(\"Most Orders\")\n",
    "  elif value >= 23 or value <= 6:\n",
    "    result.append(\"Fewest Orders\")\n",
    "  else:\n",
    "    result.append(\"Average Orders\")"
   ]
  },
  {
   "cell_type": "code",
   "execution_count": 83,
   "id": "a0e3a05a",
   "metadata": {},
   "outputs": [],
   "source": [
    "df_merged['busiest_period_of_day'] = result"
   ]
  },
  {
   "cell_type": "code",
   "execution_count": 85,
   "id": "729e00b7",
   "metadata": {},
   "outputs": [
    {
     "data": {
      "text/plain": [
       "Most Orders       21118071\n",
       "Average Orders     9997651\n",
       "Fewest Orders      1289137\n",
       "Name: busiest_period_of_day, dtype: int64"
      ]
     },
     "execution_count": 85,
     "metadata": {},
     "output_type": "execute_result"
    }
   ],
   "source": [
    "df_merged['busiest_period_of_day'].value_counts(dropna = False)"
   ]
  },
  {
   "cell_type": "markdown",
   "id": "78295889",
   "metadata": {},
   "source": [
    "Notes: The number of orders varies hugely by time of day. There are more than twice as many orders in the busiest time period (late morning/early afternoon) than in the average period (late afternoon/evening), and more than 16 times as many than in the slowest period (late night/early morning)."
   ]
  },
  {
   "cell_type": "code",
   "execution_count": 88,
   "id": "e7a5a1b9",
   "metadata": {},
   "outputs": [
    {
     "data": {
      "text/plain": [
       "16.38155680893497"
      ]
     },
     "execution_count": 88,
     "metadata": {},
     "output_type": "execute_result"
    }
   ],
   "source": [
    "21118071/1289137"
   ]
  },
  {
   "cell_type": "markdown",
   "id": "650cfd0f",
   "metadata": {},
   "source": [
    "## 07. Export new dataframe"
   ]
  },
  {
   "cell_type": "code",
   "execution_count": 89,
   "id": "a1a4128a",
   "metadata": {},
   "outputs": [],
   "source": [
    "# Export and save\n",
    "\n",
    "df_merged.to_pickle(os.path.join(path, '02 Data','Prepared Data', 'orders_products_variables.pkl'))"
   ]
  }
 ],
 "metadata": {
  "kernelspec": {
   "display_name": "Python 3 (ipykernel)",
   "language": "python",
   "name": "python3"
  },
  "language_info": {
   "codemirror_mode": {
    "name": "ipython",
    "version": 3
   },
   "file_extension": ".py",
   "mimetype": "text/x-python",
   "name": "python",
   "nbconvert_exporter": "python",
   "pygments_lexer": "ipython3",
   "version": "3.9.12"
  }
 },
 "nbformat": 4,
 "nbformat_minor": 5
}
